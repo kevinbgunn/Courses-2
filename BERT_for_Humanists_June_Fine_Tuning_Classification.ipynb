{
  "nbformat": 4,
  "nbformat_minor": 0,
  "metadata": {
    "colab": {
      "name": "BERT-for-Humanists-June_Fine-Tuning-Classification.ipynb",
      "provenance": [],
      "collapsed_sections": [],
      "toc_visible": true,
      "include_colab_link": true
    },
    "kernelspec": {
      "name": "python3",
      "display_name": "Python 3"
    },
    "accelerator": "GPU",
    "widgets": {
      "application/vnd.jupyter.widget-state+json": {
        "801a952dc4914ee1b04caeacae65064d": {
          "model_module": "@jupyter-widgets/controls",
          "model_name": "HBoxModel",
          "state": {
            "_view_name": "HBoxView",
            "_dom_classes": [],
            "_model_name": "HBoxModel",
            "_view_module": "@jupyter-widgets/controls",
            "_model_module_version": "1.5.0",
            "_view_count": null,
            "_view_module_version": "1.5.0",
            "box_style": "",
            "layout": "IPY_MODEL_bbad164cd4aa4ee5bb4933c8a04ad6ea",
            "_model_module": "@jupyter-widgets/controls",
            "children": [
              "IPY_MODEL_6832d38d7a4c4041832c00205da5f3cd",
              "IPY_MODEL_4d720adc4edb4150865bfe2f1ea824fc"
            ]
          }
        },
        "bbad164cd4aa4ee5bb4933c8a04ad6ea": {
          "model_module": "@jupyter-widgets/base",
          "model_name": "LayoutModel",
          "state": {
            "_view_name": "LayoutView",
            "grid_template_rows": null,
            "right": null,
            "justify_content": null,
            "_view_module": "@jupyter-widgets/base",
            "overflow": null,
            "_model_module_version": "1.2.0",
            "_view_count": null,
            "flex_flow": null,
            "width": null,
            "min_width": null,
            "border": null,
            "align_items": null,
            "bottom": null,
            "_model_module": "@jupyter-widgets/base",
            "top": null,
            "grid_column": null,
            "overflow_y": null,
            "overflow_x": null,
            "grid_auto_flow": null,
            "grid_area": null,
            "grid_template_columns": null,
            "flex": null,
            "_model_name": "LayoutModel",
            "justify_items": null,
            "grid_row": null,
            "max_height": null,
            "align_content": null,
            "visibility": null,
            "align_self": null,
            "height": null,
            "min_height": null,
            "padding": null,
            "grid_auto_rows": null,
            "grid_gap": null,
            "max_width": null,
            "order": null,
            "_view_module_version": "1.2.0",
            "grid_template_areas": null,
            "object_position": null,
            "object_fit": null,
            "grid_auto_columns": null,
            "margin": null,
            "display": null,
            "left": null
          }
        },
        "6832d38d7a4c4041832c00205da5f3cd": {
          "model_module": "@jupyter-widgets/controls",
          "model_name": "FloatProgressModel",
          "state": {
            "_view_name": "ProgressView",
            "style": "IPY_MODEL_e09648d8cfb244da9a3662e952d29efa",
            "_dom_classes": [],
            "description": "Downloading: 100%",
            "_model_name": "FloatProgressModel",
            "bar_style": "success",
            "max": 213450,
            "_view_module": "@jupyter-widgets/controls",
            "_model_module_version": "1.5.0",
            "value": 213450,
            "_view_count": null,
            "_view_module_version": "1.5.0",
            "orientation": "horizontal",
            "min": 0,
            "description_tooltip": null,
            "_model_module": "@jupyter-widgets/controls",
            "layout": "IPY_MODEL_3b1babd4b9684309abd5abeeceee7b5c"
          }
        },
        "4d720adc4edb4150865bfe2f1ea824fc": {
          "model_module": "@jupyter-widgets/controls",
          "model_name": "HTMLModel",
          "state": {
            "_view_name": "HTMLView",
            "style": "IPY_MODEL_8c660c74a869474fa6933624a94102b5",
            "_dom_classes": [],
            "description": "",
            "_model_name": "HTMLModel",
            "placeholder": "​",
            "_view_module": "@jupyter-widgets/controls",
            "_model_module_version": "1.5.0",
            "value": " 213k/213k [00:07&lt;00:00, 28.1kB/s]",
            "_view_count": null,
            "_view_module_version": "1.5.0",
            "description_tooltip": null,
            "_model_module": "@jupyter-widgets/controls",
            "layout": "IPY_MODEL_35f6da6392b548b6917dd79d63c9295d"
          }
        },
        "e09648d8cfb244da9a3662e952d29efa": {
          "model_module": "@jupyter-widgets/controls",
          "model_name": "ProgressStyleModel",
          "state": {
            "_view_name": "StyleView",
            "_model_name": "ProgressStyleModel",
            "description_width": "initial",
            "_view_module": "@jupyter-widgets/base",
            "_model_module_version": "1.5.0",
            "_view_count": null,
            "_view_module_version": "1.2.0",
            "bar_color": null,
            "_model_module": "@jupyter-widgets/controls"
          }
        },
        "3b1babd4b9684309abd5abeeceee7b5c": {
          "model_module": "@jupyter-widgets/base",
          "model_name": "LayoutModel",
          "state": {
            "_view_name": "LayoutView",
            "grid_template_rows": null,
            "right": null,
            "justify_content": null,
            "_view_module": "@jupyter-widgets/base",
            "overflow": null,
            "_model_module_version": "1.2.0",
            "_view_count": null,
            "flex_flow": null,
            "width": null,
            "min_width": null,
            "border": null,
            "align_items": null,
            "bottom": null,
            "_model_module": "@jupyter-widgets/base",
            "top": null,
            "grid_column": null,
            "overflow_y": null,
            "overflow_x": null,
            "grid_auto_flow": null,
            "grid_area": null,
            "grid_template_columns": null,
            "flex": null,
            "_model_name": "LayoutModel",
            "justify_items": null,
            "grid_row": null,
            "max_height": null,
            "align_content": null,
            "visibility": null,
            "align_self": null,
            "height": null,
            "min_height": null,
            "padding": null,
            "grid_auto_rows": null,
            "grid_gap": null,
            "max_width": null,
            "order": null,
            "_view_module_version": "1.2.0",
            "grid_template_areas": null,
            "object_position": null,
            "object_fit": null,
            "grid_auto_columns": null,
            "margin": null,
            "display": null,
            "left": null
          }
        },
        "8c660c74a869474fa6933624a94102b5": {
          "model_module": "@jupyter-widgets/controls",
          "model_name": "DescriptionStyleModel",
          "state": {
            "_view_name": "StyleView",
            "_model_name": "DescriptionStyleModel",
            "description_width": "",
            "_view_module": "@jupyter-widgets/base",
            "_model_module_version": "1.5.0",
            "_view_count": null,
            "_view_module_version": "1.2.0",
            "_model_module": "@jupyter-widgets/controls"
          }
        },
        "35f6da6392b548b6917dd79d63c9295d": {
          "model_module": "@jupyter-widgets/base",
          "model_name": "LayoutModel",
          "state": {
            "_view_name": "LayoutView",
            "grid_template_rows": null,
            "right": null,
            "justify_content": null,
            "_view_module": "@jupyter-widgets/base",
            "overflow": null,
            "_model_module_version": "1.2.0",
            "_view_count": null,
            "flex_flow": null,
            "width": null,
            "min_width": null,
            "border": null,
            "align_items": null,
            "bottom": null,
            "_model_module": "@jupyter-widgets/base",
            "top": null,
            "grid_column": null,
            "overflow_y": null,
            "overflow_x": null,
            "grid_auto_flow": null,
            "grid_area": null,
            "grid_template_columns": null,
            "flex": null,
            "_model_name": "LayoutModel",
            "justify_items": null,
            "grid_row": null,
            "max_height": null,
            "align_content": null,
            "visibility": null,
            "align_self": null,
            "height": null,
            "min_height": null,
            "padding": null,
            "grid_auto_rows": null,
            "grid_gap": null,
            "max_width": null,
            "order": null,
            "_view_module_version": "1.2.0",
            "grid_template_areas": null,
            "object_position": null,
            "object_fit": null,
            "grid_auto_columns": null,
            "margin": null,
            "display": null,
            "left": null
          }
        },
        "d1702ff6ef8a4130b63f4000e284039e": {
          "model_module": "@jupyter-widgets/controls",
          "model_name": "HBoxModel",
          "state": {
            "_view_name": "HBoxView",
            "_dom_classes": [],
            "_model_name": "HBoxModel",
            "_view_module": "@jupyter-widgets/controls",
            "_model_module_version": "1.5.0",
            "_view_count": null,
            "_view_module_version": "1.5.0",
            "box_style": "",
            "layout": "IPY_MODEL_633484ed4288465fabfc0000a7df35dd",
            "_model_module": "@jupyter-widgets/controls",
            "children": [
              "IPY_MODEL_fe45063ada294f1fb42598061556820d",
              "IPY_MODEL_5cf4b99835f0403bbfb4a5a0078e6982"
            ]
          }
        },
        "633484ed4288465fabfc0000a7df35dd": {
          "model_module": "@jupyter-widgets/base",
          "model_name": "LayoutModel",
          "state": {
            "_view_name": "LayoutView",
            "grid_template_rows": null,
            "right": null,
            "justify_content": null,
            "_view_module": "@jupyter-widgets/base",
            "overflow": null,
            "_model_module_version": "1.2.0",
            "_view_count": null,
            "flex_flow": null,
            "width": null,
            "min_width": null,
            "border": null,
            "align_items": null,
            "bottom": null,
            "_model_module": "@jupyter-widgets/base",
            "top": null,
            "grid_column": null,
            "overflow_y": null,
            "overflow_x": null,
            "grid_auto_flow": null,
            "grid_area": null,
            "grid_template_columns": null,
            "flex": null,
            "_model_name": "LayoutModel",
            "justify_items": null,
            "grid_row": null,
            "max_height": null,
            "align_content": null,
            "visibility": null,
            "align_self": null,
            "height": null,
            "min_height": null,
            "padding": null,
            "grid_auto_rows": null,
            "grid_gap": null,
            "max_width": null,
            "order": null,
            "_view_module_version": "1.2.0",
            "grid_template_areas": null,
            "object_position": null,
            "object_fit": null,
            "grid_auto_columns": null,
            "margin": null,
            "display": null,
            "left": null
          }
        },
        "fe45063ada294f1fb42598061556820d": {
          "model_module": "@jupyter-widgets/controls",
          "model_name": "FloatProgressModel",
          "state": {
            "_view_name": "ProgressView",
            "style": "IPY_MODEL_c5c9effe09dc4efbbce7631dd6a3c4e3",
            "_dom_classes": [],
            "description": "Downloading: 100%",
            "_model_name": "FloatProgressModel",
            "bar_style": "success",
            "max": 435797,
            "_view_module": "@jupyter-widgets/controls",
            "_model_module_version": "1.5.0",
            "value": 435797,
            "_view_count": null,
            "_view_module_version": "1.5.0",
            "orientation": "horizontal",
            "min": 0,
            "description_tooltip": null,
            "_model_module": "@jupyter-widgets/controls",
            "layout": "IPY_MODEL_0808b92bd2c54f16bfc34fac27c7a941"
          }
        },
        "5cf4b99835f0403bbfb4a5a0078e6982": {
          "model_module": "@jupyter-widgets/controls",
          "model_name": "HTMLModel",
          "state": {
            "_view_name": "HTMLView",
            "style": "IPY_MODEL_a952717027f94e0088b30d806580cd87",
            "_dom_classes": [],
            "description": "",
            "_model_name": "HTMLModel",
            "placeholder": "​",
            "_view_module": "@jupyter-widgets/controls",
            "_model_module_version": "1.5.0",
            "value": " 436k/436k [00:04&lt;00:00, 99.3kB/s]",
            "_view_count": null,
            "_view_module_version": "1.5.0",
            "description_tooltip": null,
            "_model_module": "@jupyter-widgets/controls",
            "layout": "IPY_MODEL_5a8eaf0e5be34663bc9df5f3f5bf2ace"
          }
        },
        "c5c9effe09dc4efbbce7631dd6a3c4e3": {
          "model_module": "@jupyter-widgets/controls",
          "model_name": "ProgressStyleModel",
          "state": {
            "_view_name": "StyleView",
            "_model_name": "ProgressStyleModel",
            "description_width": "initial",
            "_view_module": "@jupyter-widgets/base",
            "_model_module_version": "1.5.0",
            "_view_count": null,
            "_view_module_version": "1.2.0",
            "bar_color": null,
            "_model_module": "@jupyter-widgets/controls"
          }
        },
        "0808b92bd2c54f16bfc34fac27c7a941": {
          "model_module": "@jupyter-widgets/base",
          "model_name": "LayoutModel",
          "state": {
            "_view_name": "LayoutView",
            "grid_template_rows": null,
            "right": null,
            "justify_content": null,
            "_view_module": "@jupyter-widgets/base",
            "overflow": null,
            "_model_module_version": "1.2.0",
            "_view_count": null,
            "flex_flow": null,
            "width": null,
            "min_width": null,
            "border": null,
            "align_items": null,
            "bottom": null,
            "_model_module": "@jupyter-widgets/base",
            "top": null,
            "grid_column": null,
            "overflow_y": null,
            "overflow_x": null,
            "grid_auto_flow": null,
            "grid_area": null,
            "grid_template_columns": null,
            "flex": null,
            "_model_name": "LayoutModel",
            "justify_items": null,
            "grid_row": null,
            "max_height": null,
            "align_content": null,
            "visibility": null,
            "align_self": null,
            "height": null,
            "min_height": null,
            "padding": null,
            "grid_auto_rows": null,
            "grid_gap": null,
            "max_width": null,
            "order": null,
            "_view_module_version": "1.2.0",
            "grid_template_areas": null,
            "object_position": null,
            "object_fit": null,
            "grid_auto_columns": null,
            "margin": null,
            "display": null,
            "left": null
          }
        },
        "a952717027f94e0088b30d806580cd87": {
          "model_module": "@jupyter-widgets/controls",
          "model_name": "DescriptionStyleModel",
          "state": {
            "_view_name": "StyleView",
            "_model_name": "DescriptionStyleModel",
            "description_width": "",
            "_view_module": "@jupyter-widgets/base",
            "_model_module_version": "1.5.0",
            "_view_count": null,
            "_view_module_version": "1.2.0",
            "_model_module": "@jupyter-widgets/controls"
          }
        },
        "5a8eaf0e5be34663bc9df5f3f5bf2ace": {
          "model_module": "@jupyter-widgets/base",
          "model_name": "LayoutModel",
          "state": {
            "_view_name": "LayoutView",
            "grid_template_rows": null,
            "right": null,
            "justify_content": null,
            "_view_module": "@jupyter-widgets/base",
            "overflow": null,
            "_model_module_version": "1.2.0",
            "_view_count": null,
            "flex_flow": null,
            "width": null,
            "min_width": null,
            "border": null,
            "align_items": null,
            "bottom": null,
            "_model_module": "@jupyter-widgets/base",
            "top": null,
            "grid_column": null,
            "overflow_y": null,
            "overflow_x": null,
            "grid_auto_flow": null,
            "grid_area": null,
            "grid_template_columns": null,
            "flex": null,
            "_model_name": "LayoutModel",
            "justify_items": null,
            "grid_row": null,
            "max_height": null,
            "align_content": null,
            "visibility": null,
            "align_self": null,
            "height": null,
            "min_height": null,
            "padding": null,
            "grid_auto_rows": null,
            "grid_gap": null,
            "max_width": null,
            "order": null,
            "_view_module_version": "1.2.0",
            "grid_template_areas": null,
            "object_position": null,
            "object_fit": null,
            "grid_auto_columns": null,
            "margin": null,
            "display": null,
            "left": null
          }
        },
        "cf2a2bc44a6a4d169422f8e8ff37d065": {
          "model_module": "@jupyter-widgets/controls",
          "model_name": "HBoxModel",
          "state": {
            "_view_name": "HBoxView",
            "_dom_classes": [],
            "_model_name": "HBoxModel",
            "_view_module": "@jupyter-widgets/controls",
            "_model_module_version": "1.5.0",
            "_view_count": null,
            "_view_module_version": "1.5.0",
            "box_style": "",
            "layout": "IPY_MODEL_ba1d00f52875452ebf992c97ed4ca212",
            "_model_module": "@jupyter-widgets/controls",
            "children": [
              "IPY_MODEL_0e3776e2ac1c4fc28856bf8a8ab70c3c",
              "IPY_MODEL_0a2371fd3d2a493ab35e2ac514368063"
            ]
          }
        },
        "ba1d00f52875452ebf992c97ed4ca212": {
          "model_module": "@jupyter-widgets/base",
          "model_name": "LayoutModel",
          "state": {
            "_view_name": "LayoutView",
            "grid_template_rows": null,
            "right": null,
            "justify_content": null,
            "_view_module": "@jupyter-widgets/base",
            "overflow": null,
            "_model_module_version": "1.2.0",
            "_view_count": null,
            "flex_flow": null,
            "width": null,
            "min_width": null,
            "border": null,
            "align_items": null,
            "bottom": null,
            "_model_module": "@jupyter-widgets/base",
            "top": null,
            "grid_column": null,
            "overflow_y": null,
            "overflow_x": null,
            "grid_auto_flow": null,
            "grid_area": null,
            "grid_template_columns": null,
            "flex": null,
            "_model_name": "LayoutModel",
            "justify_items": null,
            "grid_row": null,
            "max_height": null,
            "align_content": null,
            "visibility": null,
            "align_self": null,
            "height": null,
            "min_height": null,
            "padding": null,
            "grid_auto_rows": null,
            "grid_gap": null,
            "max_width": null,
            "order": null,
            "_view_module_version": "1.2.0",
            "grid_template_areas": null,
            "object_position": null,
            "object_fit": null,
            "grid_auto_columns": null,
            "margin": null,
            "display": null,
            "left": null
          }
        },
        "0e3776e2ac1c4fc28856bf8a8ab70c3c": {
          "model_module": "@jupyter-widgets/controls",
          "model_name": "FloatProgressModel",
          "state": {
            "_view_name": "ProgressView",
            "style": "IPY_MODEL_deb301e85a604613b075607a948eb5a5",
            "_dom_classes": [],
            "description": "Downloading: 100%",
            "_model_name": "FloatProgressModel",
            "bar_style": "success",
            "max": 29,
            "_view_module": "@jupyter-widgets/controls",
            "_model_module_version": "1.5.0",
            "value": 29,
            "_view_count": null,
            "_view_module_version": "1.5.0",
            "orientation": "horizontal",
            "min": 0,
            "description_tooltip": null,
            "_model_module": "@jupyter-widgets/controls",
            "layout": "IPY_MODEL_6217a04302664ffbb8938d5687643857"
          }
        },
        "0a2371fd3d2a493ab35e2ac514368063": {
          "model_module": "@jupyter-widgets/controls",
          "model_name": "HTMLModel",
          "state": {
            "_view_name": "HTMLView",
            "style": "IPY_MODEL_64bd0c8ea11948efbfa227a688e69aa0",
            "_dom_classes": [],
            "description": "",
            "_model_name": "HTMLModel",
            "placeholder": "​",
            "_view_module": "@jupyter-widgets/controls",
            "_model_module_version": "1.5.0",
            "value": " 29.0/29.0 [00:03&lt;00:00, 9.34B/s]",
            "_view_count": null,
            "_view_module_version": "1.5.0",
            "description_tooltip": null,
            "_model_module": "@jupyter-widgets/controls",
            "layout": "IPY_MODEL_dc6a8edb63824c96b7b269a69166f0f2"
          }
        },
        "deb301e85a604613b075607a948eb5a5": {
          "model_module": "@jupyter-widgets/controls",
          "model_name": "ProgressStyleModel",
          "state": {
            "_view_name": "StyleView",
            "_model_name": "ProgressStyleModel",
            "description_width": "initial",
            "_view_module": "@jupyter-widgets/base",
            "_model_module_version": "1.5.0",
            "_view_count": null,
            "_view_module_version": "1.2.0",
            "bar_color": null,
            "_model_module": "@jupyter-widgets/controls"
          }
        },
        "6217a04302664ffbb8938d5687643857": {
          "model_module": "@jupyter-widgets/base",
          "model_name": "LayoutModel",
          "state": {
            "_view_name": "LayoutView",
            "grid_template_rows": null,
            "right": null,
            "justify_content": null,
            "_view_module": "@jupyter-widgets/base",
            "overflow": null,
            "_model_module_version": "1.2.0",
            "_view_count": null,
            "flex_flow": null,
            "width": null,
            "min_width": null,
            "border": null,
            "align_items": null,
            "bottom": null,
            "_model_module": "@jupyter-widgets/base",
            "top": null,
            "grid_column": null,
            "overflow_y": null,
            "overflow_x": null,
            "grid_auto_flow": null,
            "grid_area": null,
            "grid_template_columns": null,
            "flex": null,
            "_model_name": "LayoutModel",
            "justify_items": null,
            "grid_row": null,
            "max_height": null,
            "align_content": null,
            "visibility": null,
            "align_self": null,
            "height": null,
            "min_height": null,
            "padding": null,
            "grid_auto_rows": null,
            "grid_gap": null,
            "max_width": null,
            "order": null,
            "_view_module_version": "1.2.0",
            "grid_template_areas": null,
            "object_position": null,
            "object_fit": null,
            "grid_auto_columns": null,
            "margin": null,
            "display": null,
            "left": null
          }
        },
        "64bd0c8ea11948efbfa227a688e69aa0": {
          "model_module": "@jupyter-widgets/controls",
          "model_name": "DescriptionStyleModel",
          "state": {
            "_view_name": "StyleView",
            "_model_name": "DescriptionStyleModel",
            "description_width": "",
            "_view_module": "@jupyter-widgets/base",
            "_model_module_version": "1.5.0",
            "_view_count": null,
            "_view_module_version": "1.2.0",
            "_model_module": "@jupyter-widgets/controls"
          }
        },
        "dc6a8edb63824c96b7b269a69166f0f2": {
          "model_module": "@jupyter-widgets/base",
          "model_name": "LayoutModel",
          "state": {
            "_view_name": "LayoutView",
            "grid_template_rows": null,
            "right": null,
            "justify_content": null,
            "_view_module": "@jupyter-widgets/base",
            "overflow": null,
            "_model_module_version": "1.2.0",
            "_view_count": null,
            "flex_flow": null,
            "width": null,
            "min_width": null,
            "border": null,
            "align_items": null,
            "bottom": null,
            "_model_module": "@jupyter-widgets/base",
            "top": null,
            "grid_column": null,
            "overflow_y": null,
            "overflow_x": null,
            "grid_auto_flow": null,
            "grid_area": null,
            "grid_template_columns": null,
            "flex": null,
            "_model_name": "LayoutModel",
            "justify_items": null,
            "grid_row": null,
            "max_height": null,
            "align_content": null,
            "visibility": null,
            "align_self": null,
            "height": null,
            "min_height": null,
            "padding": null,
            "grid_auto_rows": null,
            "grid_gap": null,
            "max_width": null,
            "order": null,
            "_view_module_version": "1.2.0",
            "grid_template_areas": null,
            "object_position": null,
            "object_fit": null,
            "grid_auto_columns": null,
            "margin": null,
            "display": null,
            "left": null
          }
        },
        "2edfcf3800814b5b94edf68ab7ab000b": {
          "model_module": "@jupyter-widgets/controls",
          "model_name": "HBoxModel",
          "state": {
            "_view_name": "HBoxView",
            "_dom_classes": [],
            "_model_name": "HBoxModel",
            "_view_module": "@jupyter-widgets/controls",
            "_model_module_version": "1.5.0",
            "_view_count": null,
            "_view_module_version": "1.5.0",
            "box_style": "",
            "layout": "IPY_MODEL_8b62d987aad04be196d499f8dbd46b41",
            "_model_module": "@jupyter-widgets/controls",
            "children": [
              "IPY_MODEL_3b00f2513db440a780875334a70b5804",
              "IPY_MODEL_768ccb9e24104616a019ea13a038b2f1"
            ]
          }
        },
        "8b62d987aad04be196d499f8dbd46b41": {
          "model_module": "@jupyter-widgets/base",
          "model_name": "LayoutModel",
          "state": {
            "_view_name": "LayoutView",
            "grid_template_rows": null,
            "right": null,
            "justify_content": null,
            "_view_module": "@jupyter-widgets/base",
            "overflow": null,
            "_model_module_version": "1.2.0",
            "_view_count": null,
            "flex_flow": null,
            "width": null,
            "min_width": null,
            "border": null,
            "align_items": null,
            "bottom": null,
            "_model_module": "@jupyter-widgets/base",
            "top": null,
            "grid_column": null,
            "overflow_y": null,
            "overflow_x": null,
            "grid_auto_flow": null,
            "grid_area": null,
            "grid_template_columns": null,
            "flex": null,
            "_model_name": "LayoutModel",
            "justify_items": null,
            "grid_row": null,
            "max_height": null,
            "align_content": null,
            "visibility": null,
            "align_self": null,
            "height": null,
            "min_height": null,
            "padding": null,
            "grid_auto_rows": null,
            "grid_gap": null,
            "max_width": null,
            "order": null,
            "_view_module_version": "1.2.0",
            "grid_template_areas": null,
            "object_position": null,
            "object_fit": null,
            "grid_auto_columns": null,
            "margin": null,
            "display": null,
            "left": null
          }
        },
        "3b00f2513db440a780875334a70b5804": {
          "model_module": "@jupyter-widgets/controls",
          "model_name": "FloatProgressModel",
          "state": {
            "_view_name": "ProgressView",
            "style": "IPY_MODEL_48f72c62abca45048d6169d316c2fd70",
            "_dom_classes": [],
            "description": "Downloading: 100%",
            "_model_name": "FloatProgressModel",
            "bar_style": "success",
            "max": 411,
            "_view_module": "@jupyter-widgets/controls",
            "_model_module_version": "1.5.0",
            "value": 411,
            "_view_count": null,
            "_view_module_version": "1.5.0",
            "orientation": "horizontal",
            "min": 0,
            "description_tooltip": null,
            "_model_module": "@jupyter-widgets/controls",
            "layout": "IPY_MODEL_13a552397b4341a0b8fc3170a6a7486f"
          }
        },
        "768ccb9e24104616a019ea13a038b2f1": {
          "model_module": "@jupyter-widgets/controls",
          "model_name": "HTMLModel",
          "state": {
            "_view_name": "HTMLView",
            "style": "IPY_MODEL_aca34b8fc8dd403f918587f8788b83bd",
            "_dom_classes": [],
            "description": "",
            "_model_name": "HTMLModel",
            "placeholder": "​",
            "_view_module": "@jupyter-widgets/controls",
            "_model_module_version": "1.5.0",
            "value": " 411/411 [00:23&lt;00:00, 17.6B/s]",
            "_view_count": null,
            "_view_module_version": "1.5.0",
            "description_tooltip": null,
            "_model_module": "@jupyter-widgets/controls",
            "layout": "IPY_MODEL_e8dd0a7778344da091169d9de3a1ebda"
          }
        },
        "48f72c62abca45048d6169d316c2fd70": {
          "model_module": "@jupyter-widgets/controls",
          "model_name": "ProgressStyleModel",
          "state": {
            "_view_name": "StyleView",
            "_model_name": "ProgressStyleModel",
            "description_width": "initial",
            "_view_module": "@jupyter-widgets/base",
            "_model_module_version": "1.5.0",
            "_view_count": null,
            "_view_module_version": "1.2.0",
            "bar_color": null,
            "_model_module": "@jupyter-widgets/controls"
          }
        },
        "13a552397b4341a0b8fc3170a6a7486f": {
          "model_module": "@jupyter-widgets/base",
          "model_name": "LayoutModel",
          "state": {
            "_view_name": "LayoutView",
            "grid_template_rows": null,
            "right": null,
            "justify_content": null,
            "_view_module": "@jupyter-widgets/base",
            "overflow": null,
            "_model_module_version": "1.2.0",
            "_view_count": null,
            "flex_flow": null,
            "width": null,
            "min_width": null,
            "border": null,
            "align_items": null,
            "bottom": null,
            "_model_module": "@jupyter-widgets/base",
            "top": null,
            "grid_column": null,
            "overflow_y": null,
            "overflow_x": null,
            "grid_auto_flow": null,
            "grid_area": null,
            "grid_template_columns": null,
            "flex": null,
            "_model_name": "LayoutModel",
            "justify_items": null,
            "grid_row": null,
            "max_height": null,
            "align_content": null,
            "visibility": null,
            "align_self": null,
            "height": null,
            "min_height": null,
            "padding": null,
            "grid_auto_rows": null,
            "grid_gap": null,
            "max_width": null,
            "order": null,
            "_view_module_version": "1.2.0",
            "grid_template_areas": null,
            "object_position": null,
            "object_fit": null,
            "grid_auto_columns": null,
            "margin": null,
            "display": null,
            "left": null
          }
        },
        "aca34b8fc8dd403f918587f8788b83bd": {
          "model_module": "@jupyter-widgets/controls",
          "model_name": "DescriptionStyleModel",
          "state": {
            "_view_name": "StyleView",
            "_model_name": "DescriptionStyleModel",
            "description_width": "",
            "_view_module": "@jupyter-widgets/base",
            "_model_module_version": "1.5.0",
            "_view_count": null,
            "_view_module_version": "1.2.0",
            "_model_module": "@jupyter-widgets/controls"
          }
        },
        "e8dd0a7778344da091169d9de3a1ebda": {
          "model_module": "@jupyter-widgets/base",
          "model_name": "LayoutModel",
          "state": {
            "_view_name": "LayoutView",
            "grid_template_rows": null,
            "right": null,
            "justify_content": null,
            "_view_module": "@jupyter-widgets/base",
            "overflow": null,
            "_model_module_version": "1.2.0",
            "_view_count": null,
            "flex_flow": null,
            "width": null,
            "min_width": null,
            "border": null,
            "align_items": null,
            "bottom": null,
            "_model_module": "@jupyter-widgets/base",
            "top": null,
            "grid_column": null,
            "overflow_y": null,
            "overflow_x": null,
            "grid_auto_flow": null,
            "grid_area": null,
            "grid_template_columns": null,
            "flex": null,
            "_model_name": "LayoutModel",
            "justify_items": null,
            "grid_row": null,
            "max_height": null,
            "align_content": null,
            "visibility": null,
            "align_self": null,
            "height": null,
            "min_height": null,
            "padding": null,
            "grid_auto_rows": null,
            "grid_gap": null,
            "max_width": null,
            "order": null,
            "_view_module_version": "1.2.0",
            "grid_template_areas": null,
            "object_position": null,
            "object_fit": null,
            "grid_auto_columns": null,
            "margin": null,
            "display": null,
            "left": null
          }
        },
        "863cc4a58f8f4c259efa62ff66561f91": {
          "model_module": "@jupyter-widgets/controls",
          "model_name": "HBoxModel",
          "state": {
            "_view_name": "HBoxView",
            "_dom_classes": [],
            "_model_name": "HBoxModel",
            "_view_module": "@jupyter-widgets/controls",
            "_model_module_version": "1.5.0",
            "_view_count": null,
            "_view_module_version": "1.5.0",
            "box_style": "",
            "layout": "IPY_MODEL_8aba386b776f443c8c17af88948b6429",
            "_model_module": "@jupyter-widgets/controls",
            "children": [
              "IPY_MODEL_499b1d43d38a45a8975bf8cfa9c41f0e",
              "IPY_MODEL_53de1332b3e0486f9c6e3f159ecd074a"
            ]
          }
        },
        "8aba386b776f443c8c17af88948b6429": {
          "model_module": "@jupyter-widgets/base",
          "model_name": "LayoutModel",
          "state": {
            "_view_name": "LayoutView",
            "grid_template_rows": null,
            "right": null,
            "justify_content": null,
            "_view_module": "@jupyter-widgets/base",
            "overflow": null,
            "_model_module_version": "1.2.0",
            "_view_count": null,
            "flex_flow": null,
            "width": null,
            "min_width": null,
            "border": null,
            "align_items": null,
            "bottom": null,
            "_model_module": "@jupyter-widgets/base",
            "top": null,
            "grid_column": null,
            "overflow_y": null,
            "overflow_x": null,
            "grid_auto_flow": null,
            "grid_area": null,
            "grid_template_columns": null,
            "flex": null,
            "_model_name": "LayoutModel",
            "justify_items": null,
            "grid_row": null,
            "max_height": null,
            "align_content": null,
            "visibility": null,
            "align_self": null,
            "height": null,
            "min_height": null,
            "padding": null,
            "grid_auto_rows": null,
            "grid_gap": null,
            "max_width": null,
            "order": null,
            "_view_module_version": "1.2.0",
            "grid_template_areas": null,
            "object_position": null,
            "object_fit": null,
            "grid_auto_columns": null,
            "margin": null,
            "display": null,
            "left": null
          }
        },
        "499b1d43d38a45a8975bf8cfa9c41f0e": {
          "model_module": "@jupyter-widgets/controls",
          "model_name": "FloatProgressModel",
          "state": {
            "_view_name": "ProgressView",
            "style": "IPY_MODEL_3766ca073d634d7eace97834e56e6f5e",
            "_dom_classes": [],
            "description": "Downloading: 100%",
            "_model_name": "FloatProgressModel",
            "bar_style": "success",
            "max": 263273408,
            "_view_module": "@jupyter-widgets/controls",
            "_model_module_version": "1.5.0",
            "value": 263273408,
            "_view_count": null,
            "_view_module_version": "1.5.0",
            "orientation": "horizontal",
            "min": 0,
            "description_tooltip": null,
            "_model_module": "@jupyter-widgets/controls",
            "layout": "IPY_MODEL_512a8b246d2d40dea8c86d1bc8de681f"
          }
        },
        "53de1332b3e0486f9c6e3f159ecd074a": {
          "model_module": "@jupyter-widgets/controls",
          "model_name": "HTMLModel",
          "state": {
            "_view_name": "HTMLView",
            "style": "IPY_MODEL_27bc211ebcbe4f5eb21f6b26832b33eb",
            "_dom_classes": [],
            "description": "",
            "_model_name": "HTMLModel",
            "placeholder": "​",
            "_view_module": "@jupyter-widgets/controls",
            "_model_module_version": "1.5.0",
            "value": " 263M/263M [00:06&lt;00:00, 39.9MB/s]",
            "_view_count": null,
            "_view_module_version": "1.5.0",
            "description_tooltip": null,
            "_model_module": "@jupyter-widgets/controls",
            "layout": "IPY_MODEL_d62917a66b714713bdd8fa773a70f8aa"
          }
        },
        "3766ca073d634d7eace97834e56e6f5e": {
          "model_module": "@jupyter-widgets/controls",
          "model_name": "ProgressStyleModel",
          "state": {
            "_view_name": "StyleView",
            "_model_name": "ProgressStyleModel",
            "description_width": "initial",
            "_view_module": "@jupyter-widgets/base",
            "_model_module_version": "1.5.0",
            "_view_count": null,
            "_view_module_version": "1.2.0",
            "bar_color": null,
            "_model_module": "@jupyter-widgets/controls"
          }
        },
        "512a8b246d2d40dea8c86d1bc8de681f": {
          "model_module": "@jupyter-widgets/base",
          "model_name": "LayoutModel",
          "state": {
            "_view_name": "LayoutView",
            "grid_template_rows": null,
            "right": null,
            "justify_content": null,
            "_view_module": "@jupyter-widgets/base",
            "overflow": null,
            "_model_module_version": "1.2.0",
            "_view_count": null,
            "flex_flow": null,
            "width": null,
            "min_width": null,
            "border": null,
            "align_items": null,
            "bottom": null,
            "_model_module": "@jupyter-widgets/base",
            "top": null,
            "grid_column": null,
            "overflow_y": null,
            "overflow_x": null,
            "grid_auto_flow": null,
            "grid_area": null,
            "grid_template_columns": null,
            "flex": null,
            "_model_name": "LayoutModel",
            "justify_items": null,
            "grid_row": null,
            "max_height": null,
            "align_content": null,
            "visibility": null,
            "align_self": null,
            "height": null,
            "min_height": null,
            "padding": null,
            "grid_auto_rows": null,
            "grid_gap": null,
            "max_width": null,
            "order": null,
            "_view_module_version": "1.2.0",
            "grid_template_areas": null,
            "object_position": null,
            "object_fit": null,
            "grid_auto_columns": null,
            "margin": null,
            "display": null,
            "left": null
          }
        },
        "27bc211ebcbe4f5eb21f6b26832b33eb": {
          "model_module": "@jupyter-widgets/controls",
          "model_name": "DescriptionStyleModel",
          "state": {
            "_view_name": "StyleView",
            "_model_name": "DescriptionStyleModel",
            "description_width": "",
            "_view_module": "@jupyter-widgets/base",
            "_model_module_version": "1.5.0",
            "_view_count": null,
            "_view_module_version": "1.2.0",
            "_model_module": "@jupyter-widgets/controls"
          }
        },
        "d62917a66b714713bdd8fa773a70f8aa": {
          "model_module": "@jupyter-widgets/base",
          "model_name": "LayoutModel",
          "state": {
            "_view_name": "LayoutView",
            "grid_template_rows": null,
            "right": null,
            "justify_content": null,
            "_view_module": "@jupyter-widgets/base",
            "overflow": null,
            "_model_module_version": "1.2.0",
            "_view_count": null,
            "flex_flow": null,
            "width": null,
            "min_width": null,
            "border": null,
            "align_items": null,
            "bottom": null,
            "_model_module": "@jupyter-widgets/base",
            "top": null,
            "grid_column": null,
            "overflow_y": null,
            "overflow_x": null,
            "grid_auto_flow": null,
            "grid_area": null,
            "grid_template_columns": null,
            "flex": null,
            "_model_name": "LayoutModel",
            "justify_items": null,
            "grid_row": null,
            "max_height": null,
            "align_content": null,
            "visibility": null,
            "align_self": null,
            "height": null,
            "min_height": null,
            "padding": null,
            "grid_auto_rows": null,
            "grid_gap": null,
            "max_width": null,
            "order": null,
            "_view_module_version": "1.2.0",
            "grid_template_areas": null,
            "object_position": null,
            "object_fit": null,
            "grid_auto_columns": null,
            "margin": null,
            "display": null,
            "left": null
          }
        }
      }
    }
  },
  "cells": [
    {
      "cell_type": "markdown",
      "metadata": {
        "id": "view-in-github",
        "colab_type": "text"
      },
      "source": [
        "<a href=\"https://colab.research.google.com/github/kevinbgunn/Courses-2/blob/master/BERT_for_Humanists_June_Fine_Tuning_Classification.ipynb\" target=\"_parent\"><img src=\"https://colab.research.google.com/assets/colab-badge.svg\" alt=\"Open In Colab\"/></a>"
      ]
    },
    {
      "cell_type": "markdown",
      "metadata": {
        "id": "URKn8K0HydhV"
      },
      "source": [
        "# Training and Fine-Tuning BERT for Classification\n",
        "## Classfying Goodreads Reviews By Book Genre\n",
        "\n",
        "By The [BERT for Humanists](https://melaniewalsh.github.io/BERT-for-Humanists/) Team\n",
        "<br></br>\n",
        "\n",
        "This notebook will demonstrate how users can train and fine-tune a BERT model for classification with the popular HuggingFace `transformers` Python library.\n",
        "\n",
        "We will fine-tune a BERT model on Goodreads reviews from the [UCSD Book Graph](https://sites.google.com/eng.ucsd.edu/ucsdbookgraph/reviews?authuser=0) with the goal of predicting the genre of the book being reviewed. The genres include:\n",
        "- poetry\n",
        "- comics & graphic\n",
        "- fantasy & paranormal\n",
        "- history & biography\n",
        "- mystery, thriller, & crime\n",
        "- romance\n",
        "- young adult  \n",
        "\n",
        "**Basic steps involved in using BERT and HuggingFace:**\n",
        "1. Divide your data into training and test sets.\n",
        "2. Encode your data into a format BERT will understand.\n",
        "3. Combine your data and labels into datset objects.\n",
        "4. Load the pre-trained BERT model.\n",
        "5. Fine-tune the model using your training data.\n",
        "6. Predict new labels and evaluate performance on your test data.\n",
        "\n"
      ]
    },
    {
      "cell_type": "markdown",
      "metadata": {
        "id": "y73xWUkpU1AC"
      },
      "source": [
        "<br><br>\n",
        "\n",
        "## **Import necessary Python libraries and modules**"
      ]
    },
    {
      "cell_type": "markdown",
      "metadata": {
        "id": "BJ9kmfrO3M_w"
      },
      "source": [
        "First, we will import necessary Python libraries and modules. These include as `gdown`, for downloading large files from Google Drive (where we will get our UCSD Goodreads reviews), as well as scikit-learn (`sklearn`) and PyTorch (`torch`), for various machine learning tools."
      ]
    },
    {
      "cell_type": "code",
      "metadata": {
        "id": "x9Si6kIWcULv"
      },
      "source": [
        "# Basic Python modules\n",
        "from collections import defaultdict\n",
        "import random\n",
        "import pickle\n",
        "\n",
        "# For downloading large files from Google Drive\n",
        "# https://github.com/wkentaro/gdown\n",
        "import gdown\n",
        "\n",
        "# For working with gzip files\n",
        "# https://docs.python.org/3/library/gzip.html\n",
        "import gzip\n",
        "\n",
        "# For working with JSON files\n",
        "import json\n",
        "\n",
        "# For data manipulation and analysis\n",
        "import pandas as pd\n",
        "import numpy as np\n",
        "\n",
        "# For machine learning tools and evaluation\n",
        "from sklearn.metrics import accuracy_score, precision_recall_fscore_support, classification_report\n",
        "from sklearn.feature_extraction.text import TfidfVectorizer\n",
        "from sklearn.linear_model import LogisticRegression\n",
        "\n",
        "# For deep learning\n",
        "# https://pytorch.org/tutorials/beginner/basics/quickstart_tutorial.html\n",
        "import torch\n",
        "\n",
        "# For plotting and data visualization\n",
        "%matplotlib inline\n",
        "import matplotlib.pyplot as plt\n",
        "import seaborn as sns\n",
        "from matplotlib import ticker\n",
        "sns.set(style='ticks', font_scale=1.2)"
      ],
      "execution_count": null,
      "outputs": []
    },
    {
      "cell_type": "markdown",
      "metadata": {
        "id": "4N0RIalt28yL"
      },
      "source": [
        "To use the HuggingFace [`transformers` Python library](https://huggingface.co/transformers/installation.html), we will install it with `pip`."
      ]
    },
    {
      "cell_type": "code",
      "metadata": {
        "colab": {
          "base_uri": "https://localhost:8080/"
        },
        "id": "BNxmMnzoccfm",
        "outputId": "d8386e9a-9348-41c6-b238-ca3bcf923aa9"
      },
      "source": [
        "!pip3 install transformers"
      ],
      "execution_count": null,
      "outputs": [
        {
          "output_type": "stream",
          "text": [
            "Collecting transformers\n",
            "\u001b[?25l  Downloading https://files.pythonhosted.org/packages/d5/43/cfe4ee779bbd6a678ac6a97c5a5cdeb03c35f9eaebbb9720b036680f9a2d/transformers-4.6.1-py3-none-any.whl (2.2MB)\n",
            "\u001b[K     |████████████████████████████████| 2.3MB 9.0MB/s \n",
            "\u001b[?25hRequirement already satisfied: numpy>=1.17 in /usr/local/lib/python3.7/dist-packages (from transformers) (1.19.5)\n",
            "Requirement already satisfied: requests in /usr/local/lib/python3.7/dist-packages (from transformers) (2.23.0)\n",
            "Requirement already satisfied: packaging in /usr/local/lib/python3.7/dist-packages (from transformers) (20.9)\n",
            "Requirement already satisfied: importlib-metadata; python_version < \"3.8\" in /usr/local/lib/python3.7/dist-packages (from transformers) (4.0.1)\n",
            "Requirement already satisfied: regex!=2019.12.17 in /usr/local/lib/python3.7/dist-packages (from transformers) (2019.12.20)\n",
            "Collecting huggingface-hub==0.0.8\n",
            "  Downloading https://files.pythonhosted.org/packages/a1/88/7b1e45720ecf59c6c6737ff332f41c955963090a18e72acbcbeac6b25e86/huggingface_hub-0.0.8-py3-none-any.whl\n",
            "Collecting sacremoses\n",
            "\u001b[?25l  Downloading https://files.pythonhosted.org/packages/75/ee/67241dc87f266093c533a2d4d3d69438e57d7a90abb216fa076e7d475d4a/sacremoses-0.0.45-py3-none-any.whl (895kB)\n",
            "\u001b[K     |████████████████████████████████| 901kB 50.6MB/s \n",
            "\u001b[?25hCollecting tokenizers<0.11,>=0.10.1\n",
            "\u001b[?25l  Downloading https://files.pythonhosted.org/packages/d4/e2/df3543e8ffdab68f5acc73f613de9c2b155ac47f162e725dcac87c521c11/tokenizers-0.10.3-cp37-cp37m-manylinux_2_5_x86_64.manylinux1_x86_64.manylinux_2_12_x86_64.manylinux2010_x86_64.whl (3.3MB)\n",
            "\u001b[K     |████████████████████████████████| 3.3MB 48.0MB/s \n",
            "\u001b[?25hRequirement already satisfied: tqdm>=4.27 in /usr/local/lib/python3.7/dist-packages (from transformers) (4.41.1)\n",
            "Requirement already satisfied: filelock in /usr/local/lib/python3.7/dist-packages (from transformers) (3.0.12)\n",
            "Requirement already satisfied: urllib3!=1.25.0,!=1.25.1,<1.26,>=1.21.1 in /usr/local/lib/python3.7/dist-packages (from requests->transformers) (1.24.3)\n",
            "Requirement already satisfied: chardet<4,>=3.0.2 in /usr/local/lib/python3.7/dist-packages (from requests->transformers) (3.0.4)\n",
            "Requirement already satisfied: certifi>=2017.4.17 in /usr/local/lib/python3.7/dist-packages (from requests->transformers) (2020.12.5)\n",
            "Requirement already satisfied: idna<3,>=2.5 in /usr/local/lib/python3.7/dist-packages (from requests->transformers) (2.10)\n",
            "Requirement already satisfied: pyparsing>=2.0.2 in /usr/local/lib/python3.7/dist-packages (from packaging->transformers) (2.4.7)\n",
            "Requirement already satisfied: zipp>=0.5 in /usr/local/lib/python3.7/dist-packages (from importlib-metadata; python_version < \"3.8\"->transformers) (3.4.1)\n",
            "Requirement already satisfied: typing-extensions>=3.6.4; python_version < \"3.8\" in /usr/local/lib/python3.7/dist-packages (from importlib-metadata; python_version < \"3.8\"->transformers) (3.7.4.3)\n",
            "Requirement already satisfied: click in /usr/local/lib/python3.7/dist-packages (from sacremoses->transformers) (7.1.2)\n",
            "Requirement already satisfied: six in /usr/local/lib/python3.7/dist-packages (from sacremoses->transformers) (1.15.0)\n",
            "Requirement already satisfied: joblib in /usr/local/lib/python3.7/dist-packages (from sacremoses->transformers) (1.0.1)\n",
            "Installing collected packages: huggingface-hub, sacremoses, tokenizers, transformers\n",
            "Successfully installed huggingface-hub-0.0.8 sacremoses-0.0.45 tokenizers-0.10.3 transformers-4.6.1\n"
          ],
          "name": "stdout"
        }
      ]
    },
    {
      "cell_type": "markdown",
      "metadata": {
        "id": "f29CPpKi3__Q"
      },
      "source": [
        "Once `transformers` is installed, we will import modules for `DistilBert`, a *distilled* or smaller version of a BERT model that runs more quickly and uses less computing power. This makes it ideal for those just getting started with BERT."
      ]
    },
    {
      "cell_type": "code",
      "metadata": {
        "id": "8ARMrKfmceAb"
      },
      "source": [
        "from transformers import DistilBertTokenizerFast, DistilBertForSequenceClassification\n",
        "from transformers import Trainer, TrainingArguments"
      ],
      "execution_count": null,
      "outputs": []
    },
    {
      "cell_type": "markdown",
      "metadata": {
        "id": "Q70KYS_NVSDL"
      },
      "source": [
        "<br><br>\n",
        "\n",
        "## **Set parameters and file paths**"
      ]
    },
    {
      "cell_type": "code",
      "metadata": {
        "id": "piWsW9ZeaP_D"
      },
      "source": [
        "# This is the name of the BERT model that we want to use. \n",
        "# We're using DistilBERT to save space (it's a distilled version of the full BERT model), \n",
        "# and we're going to use the cased (vs uncased) version.\n",
        "model_name = 'distilbert-base-cased'  \n",
        "\n",
        "# This is the name of the program management system for NVIDIA GPUs. We're going to send our code here.\n",
        "device_name = 'cuda'       \n",
        "\n",
        "# This is the maximum number of tokens in any document sent to BERT.\n",
        "max_length = 512                                                        \n",
        "\n",
        "# This is the name of the directory where we'll save our model. You can name it whatever you want.\n",
        "cached_model_directory_name = 'distilbert-reviews-genres'  "
      ],
      "execution_count": null,
      "outputs": []
    },
    {
      "cell_type": "markdown",
      "metadata": {
        "id": "tUjeaqiTehPY"
      },
      "source": [
        "<br><br>\n",
        "\n",
        "## **Load and sample Goodreads data**"
      ]
    },
    {
      "cell_type": "markdown",
      "metadata": {
        "id": "SaYqqj7N8aRs"
      },
      "source": [
        "In this cell, we create a Python dictionary with each genre and the link to the corresponding UCSD Goodreads review data for that genre on Google Drive.\n",
        "\n",
        "*If you manually click on any of the URLs, you will be able to download the data for that genre. For example, here's the link for poetry: https://drive.google.com/uc?id=1FVD3LxJXRc5GrKm97LehLgVGbRfF9TyO*"
      ]
    },
    {
      "cell_type": "code",
      "metadata": {
        "id": "J7pcelDZdrcC"
      },
      "source": [
        "# This is where our target data is hosted on the web. You only need these paths for the book review dataset.\n",
        "\n",
        "genre_url_dict = {'poetry':                 'https://drive.google.com/uc?id=1FVD3LxJXRc5GrKm97LehLgVGbRfF9TyO',\n",
        "                  'children':               'https://drive.google.com/uc?id=1908GDMdrhDN7sTaI_FelSHxbwcNM1EzR',\n",
        "                  'comics_graphic':         'https://drive.google.com/uc?id=1V4MLeoEiPQdocCbUHjR_7L9ZmxTufPFe',\n",
        "                  'fantasy_paranormal':     'https://drive.google.com/uc?id=1THnnmE4XSCvMkGOsqapQr2cJI5amKA6X',\n",
        "                  'history_biography':      'https://drive.google.com/uc?id=1lDkTzM6zpYU-HGkVAQgsw0dBzik-Zde9',\n",
        "                  'mystery_thriller_crime': 'https://drive.google.com/uc?id=1ONpyuv0vrtd6iUEp0-zzkKqwpm3njEqi',\n",
        "                  'romance':                'https://drive.google.com/uc?id=1NpFsDQKBj_lrTzSASfyKbmkSykzN88wE',\n",
        "                  'young_adult':            'https://drive.google.com/uc?id=1M5iqCZ8a7rZRtsmY5KQ5rYnP9S0bQJVo'}"
      ],
      "execution_count": null,
      "outputs": []
    },
    {
      "cell_type": "markdown",
      "metadata": {
        "id": "UZC5SadPAZEc"
      },
      "source": [
        "Next we loop through this dictionary and use `gdown` to download the Goodreads review data for each genre from Google Drive."
      ]
    },
    {
      "cell_type": "code",
      "metadata": {
        "colab": {
          "base_uri": "https://localhost:8080/"
        },
        "id": "u9-iSYQPefVg",
        "outputId": "4190dcbc-d86d-43d2-89eb-2a682ef01c3e"
      },
      "source": [
        "for _genre, _url in genre_url_dict.items():\n",
        "  gdown.download(_url, _genre + '.json.gz', quiet=False) "
      ],
      "execution_count": null,
      "outputs": [
        {
          "output_type": "stream",
          "text": [
            "Downloading...\n",
            "From: https://drive.google.com/uc?id=1FVD3LxJXRc5GrKm97LehLgVGbRfF9TyO\n",
            "To: /content/poetry.json.gz\n",
            "49.3MB [00:01, 44.4MB/s]\n",
            "Downloading...\n",
            "From: https://drive.google.com/uc?id=1908GDMdrhDN7sTaI_FelSHxbwcNM1EzR\n",
            "To: /content/children.json.gz\n",
            "172MB [00:02, 78.2MB/s]\n",
            "Downloading...\n",
            "From: https://drive.google.com/uc?id=1V4MLeoEiPQdocCbUHjR_7L9ZmxTufPFe\n",
            "To: /content/comics_graphic.json.gz\n",
            "147MB [00:02, 64.4MB/s]\n",
            "Downloading...\n",
            "From: https://drive.google.com/uc?id=1THnnmE4XSCvMkGOsqapQr2cJI5amKA6X\n",
            "To: /content/fantasy_paranormal.json.gz\n",
            "1.26GB [00:15, 80.2MB/s]\n",
            "Downloading...\n",
            "From: https://drive.google.com/uc?id=1lDkTzM6zpYU-HGkVAQgsw0dBzik-Zde9\n",
            "To: /content/history_biography.json.gz\n",
            "754MB [00:24, 30.8MB/s]\n",
            "Downloading...\n",
            "From: https://drive.google.com/uc?id=1ONpyuv0vrtd6iUEp0-zzkKqwpm3njEqi\n",
            "To: /content/mystery_thriller_crime.json.gz\n",
            "610MB [00:18, 33.8MB/s]\n",
            "Downloading...\n",
            "From: https://drive.google.com/uc?id=1NpFsDQKBj_lrTzSASfyKbmkSykzN88wE\n",
            "To: /content/romance.json.gz\n",
            "1.30GB [00:31, 41.5MB/s]\n",
            "Downloading...\n",
            "From: https://drive.google.com/uc?id=1M5iqCZ8a7rZRtsmY5KQ5rYnP9S0bQJVo\n",
            "To: /content/young_adult.json.gz\n",
            "899MB [00:20, 43.6MB/s]\n"
          ],
          "name": "stderr"
        }
      ]
    },
    {
      "cell_type": "markdown",
      "metadata": {
        "id": "NLIzT1PYBv6a"
      },
      "source": [
        "If you click the file browser icon in the left-hand side bar, you should see that these files have now been download.![Screen Shot 2021-03-18 at 11.50.17 AM.png](data:image/png;base64,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) "
      ]
    },
    {
      "cell_type": "markdown",
      "metadata": {
        "id": "j4E4d6C-AruL"
      },
      "source": [
        "Next we create a function `load_reviews()`, which will use `gzip` to unzip the downloaded Goodreads review JSON files and `json` to load the JSON files once they're unzipped."
      ]
    },
    {
      "cell_type": "code",
      "metadata": {
        "id": "TfzAKfgKeuDv"
      },
      "source": [
        "def load_reviews(file_name,\n",
        "                 head=None):\n",
        "\n",
        "    reviews = []\n",
        "    count = 0\n",
        "\n",
        "    with gzip.open(file_name) as file:\n",
        "        for line in file:\n",
        "\n",
        "            d = json.loads(line)\n",
        "            count += 1\n",
        "\n",
        "            _book_id = d['book_id']\n",
        "\n",
        "            reviews.append(d['review_text'])\n",
        "\n",
        "            # Break if we reach the Nth line\n",
        "            if (head is not None) and (count > head):\n",
        "                break\n",
        "\n",
        "    return reviews"
      ],
      "execution_count": null,
      "outputs": []
    },
    {
      "cell_type": "markdown",
      "metadata": {
        "id": "gLVHBRGpBWvX"
      },
      "source": [
        "Now we apply the `load_reviews()` function. For each genre, we load and unzip the corresponding `.json.gz` file, e.g., `poetry.json.gz`, then we randomly sample 2000 Goodreads reviews and make a dictionary `genre_reviews_dict` of all these reviews."
      ]
    },
    {
      "cell_type": "code",
      "metadata": {
        "colab": {
          "base_uri": "https://localhost:8080/"
        },
        "id": "J8H_H-OmfgZ4",
        "outputId": "38cabf62-50c9-4845-f76a-07edec4858e2"
      },
      "source": [
        "genres = ['poetry', 'children', 'comics_graphic', 'fantasy_paranormal', 'history_biography', 'mystery_thriller_crime', 'romance', 'young_adult']\n",
        "genre_reviews_dict = {}\n",
        "\n",
        "for _genre in genres:\n",
        "  print('Loading ' + _genre + '.json.gz')\n",
        "\n",
        "  _reviews = load_reviews(_genre + '.json.gz')\n",
        "  genre_reviews_dict[_genre] = random.sample(_reviews, 2000)"
      ],
      "execution_count": null,
      "outputs": [
        {
          "output_type": "stream",
          "text": [
            "Loading poetry.json.gz\n",
            "Loading children.json.gz\n",
            "Loading comics_graphic.json.gz\n",
            "Loading fantasy_paranormal.json.gz\n",
            "Loading history_biography.json.gz\n",
            "Loading mystery_thriller_crime.json.gz\n",
            "Loading romance.json.gz\n",
            "Loading young_adult.json.gz\n"
          ],
          "name": "stdout"
        }
      ]
    },
    {
      "cell_type": "markdown",
      "metadata": {
        "id": "5hUYAM95IVyB"
      },
      "source": [
        "Let's preview a couple of the key-value pairs in `genre_reviews_dict`"
      ]
    },
    {
      "cell_type": "code",
      "metadata": {
        "colab": {
          "base_uri": "https://localhost:8080/"
        },
        "id": "Rf5RDXqGFQJy",
        "outputId": "722f4533-b3c9-4cfa-c8ec-e82b56ab299c"
      },
      "source": [
        " for _genre, _reviews in genre_reviews_dict.items():\n",
        "    print(_genre)\n",
        "    print(random.sample(_reviews, 1)[0])"
      ],
      "execution_count": null,
      "outputs": [
        {
          "output_type": "stream",
          "text": [
            "poetry\n",
            "Creme de la creme! \n",
            " For men may come and men may go, \n",
            " But I go on forever. \n",
            " A poem that is almost lyrical to the sound the flowing water makes as it winds down the lanes, up and below the pebbles, rafting its way to its destiny. \n",
            " The very purest form of poetry.\n",
            "children\n",
            "When I was in 7th grade, our English class was broken down into reading groups. The gifted kids (of which I was one) read Animal Farm. I had read Animal Farm and so got stuck reading A Tale of Two Cities by myself. I tell this story because the only thing I remember about the books other groups read is that one was The Dark is Rising and I remember thinking that it sounded like a really cool book. \n",
            " Then I neverror read it. \n",
            " I always meant to, but there were other things like school, travel and college that got in the way. So I finally decided it was high time I read it. \n",
            " This. Book. Is. Great! Starting out the writing style reminded me of the beginning of A Wrinkle in Time. There was also moments that reminded me of Chronicles of Narnia. It's a typical so try of good vs. Evil, light vs dark, but it is just done so well. \n",
            " The main thing I loved about this book is theasy battle of light and dark. In so many books with this theme I never really get a sense of danger because light always triumphs easily. With this book, I never felt like the light had it easy. Each encounter with the dark was intense because, while deep down I knew that light always wins, I never felt like light was overpowered. Each encounter was a struggle for Will and there was no way he could overcome the dark alone. Maybe that's what was so great. Will didn't find out he was special and then be magically amazing at everything. He is young and weak. And while there is a moment where everything is kind of revealed to him which makes him stronger, learning about being an Old one and using the power is still a learning process. I recommend this book for anyone who likes fantssy, a good story, or just anyone in general. Seriously. My one regret is that I didn't read it sooner.\n",
            "comics_graphic\n",
            "More than just a comic book. The layers of the story, the emotion, and the action were astounding.\n",
            "fantasy_paranormal\n",
            "So all my friends were right. This book is amazing! This is a must read. Do it. You won't regret it. I should have read this book a lot sooner. I consume a lot of books via audiobook lately and my main apprehension about this book was a fear that the narrator wasn't going to be very good. From the sample, it was hard to tell, so I kept putting it off. But I finally bit the bullet and decided to give it a try. The narrator wasn't the *best* I've ever listened to, but he really grew on me. Now I'm downloading the second book!\n",
            "history_biography\n",
            "Another great set of Tragedies. \n",
            " Philoctetes and the Bacchae were my favourites but all in all a great collection.\n",
            "mystery_thriller_crime\n",
            "Incredible; fantastic - review coming soon!\n",
            "romance\n",
            "Marrying Winterborne was going great until around half the book, where the hero pretty much disappears and just shows up again at the end to deal with the villain and plan an elopement. \n",
            " I know it was necessary for the conflict but I thought a writer of Ms. Kleypas' caliber knew enough not to come up with conflicts that require the hero, the HERO, of all characters, to be completely disconnected from the action for more than a third of the book! \n",
            " Part of the problem was that a significant part of the setup occurred in Cold-Hearted Rake, the first book in the series. By the time this book starts, they are already in love and start sleeping together soon thereafter. If Ms. Kleypas would developed those plot points a bit slower, she could have had a heck of a book - it seemed very weird to me how willing she was to jump in bed with the guy when the week before his kisses caused her a migraine. \n",
            " The narration was good, except for Winteborne's voice, which was atrocious. I only came back to the audio because these days, ebooks tend to languish on my TBR for years (the reason why I didn't read this book sooner.) I hope none of the future heroes in the series have an accent for Ms. Wells to mangle. \n",
            " I don't want to say it, because I don't want it to be true, but I'm starting to wonder if Ms. Kleypas jumped the shark. I guess the next books in the series will tell...\n",
            "young_adult\n",
            "Boy meets girl. Girl meets boy. Oops, girl is a dragon who can shapeshift into a human body, and boy is part of a military group charged with killing dragons. The book drags a bit in the middle, and it makes me think it could be a not-so-well written prequel to Rachel Hartman's SERAPHINA, only set in modern day California. I'll read the sequel to SERAPHINA, but will likely skip Talon #2.\n"
          ],
          "name": "stdout"
        }
      ]
    },
    {
      "cell_type": "markdown",
      "metadata": {
        "id": "kJBuJ-7yFc9b"
      },
      "source": [
        "Here we use `pickle` to save this Python dictionary to a `.pickle` file so we can easily load it later.\n",
        "\n",
        "*The `pickle` module allows you to save and load Python objects like lists and dictionaries.*"
      ]
    },
    {
      "cell_type": "code",
      "metadata": {
        "id": "YnSpBCOuuKu-"
      },
      "source": [
        "pickle.dump(genre_reviews_dict, open('genre_reviews_dict.pickle', 'wb'))\n",
        "# genre_reviews_dict = pickle.load(open('genre_reviews_dict.pickle', 'rb'))"
      ],
      "execution_count": null,
      "outputs": []
    },
    {
      "cell_type": "markdown",
      "metadata": {
        "id": "v10htL_G-OFs"
      },
      "source": [
        "<br><br>\n",
        "\n",
        "## **Split the data into training and test sets**"
      ]
    },
    {
      "cell_type": "markdown",
      "metadata": {
        "id": "y0qBs3MHGOSI"
      },
      "source": [
        "When training a machine learning model, it is necessary to split your training data into two parts: a \"training\" set and a \"test\" set.\n",
        "\n",
        "We will train our BERT model on the \"training\" set of Goodreads reviews and then we will evaluate how well it is performing by running it on the \"test\" set of Goodreads reviews that the model has never seen before.\n",
        "\n",
        "Normally, to tune the hyperparameters, you should also create a \"validation\" set for tuning, and only use the \"test\" set once, at the end of all tuning. For simplicity, in this tutorial, we will only using a training and test set."
      ]
    },
    {
      "cell_type": "code",
      "metadata": {
        "id": "h94eg2wlfi6y"
      },
      "source": [
        "train_texts = []\n",
        "train_labels = []\n",
        "\n",
        "test_texts = []\n",
        "test_labels = []\n",
        "\n",
        "for _genre, _reviews in genre_reviews_dict.items():\n",
        "\n",
        "  _reviews = random.sample(_reviews, 1000) # Use a very small set as an example.\n",
        "  \n",
        "  for _review in _reviews[:800]:\n",
        "    train_texts.append(_review)\n",
        "    train_labels.append(_genre)\n",
        "  for _review in _reviews[800:]:\n",
        "    test_texts.append(_review)\n",
        "    test_labels.append(_genre)"
      ],
      "execution_count": null,
      "outputs": []
    },
    {
      "cell_type": "markdown",
      "metadata": {
        "id": "jJDqqi5tLAqG"
      },
      "source": [
        "Show how many Goodreads reviews and labels we have in each category: 6400 training reviews, 6400 training labels (genres), 1600 test reviews, 1600 test labels (genre)"
      ]
    },
    {
      "cell_type": "code",
      "metadata": {
        "id": "4tShbGfG-VMe",
        "colab": {
          "base_uri": "https://localhost:8080/"
        },
        "outputId": "3d807183-febe-423a-e7f9-925b9ca40fc9"
      },
      "source": [
        "len(train_texts), len(train_labels), len(test_texts), len(test_labels)"
      ],
      "execution_count": null,
      "outputs": [
        {
          "output_type": "execute_result",
          "data": {
            "text/plain": [
              "(6400, 6400, 1600, 1600)"
            ]
          },
          "metadata": {
            "tags": []
          },
          "execution_count": 16
        }
      ]
    },
    {
      "cell_type": "markdown",
      "metadata": {
        "id": "O-34oep8LNKw"
      },
      "source": [
        "Here's an example of a training label and review:"
      ]
    },
    {
      "cell_type": "code",
      "metadata": {
        "colab": {
          "base_uri": "https://localhost:8080/"
        },
        "id": "dcxvqUsdf5Sm",
        "outputId": "cc6232ab-3b35-4b82-95a4-a68a4f4e09d0"
      },
      "source": [
        "train_labels[0], train_texts[0]"
      ],
      "execution_count": null,
      "outputs": [
        {
          "output_type": "execute_result",
          "data": {
            "text/plain": [
              "('poetry',\n",
              " \"I'll be honest--I've never read it straight from start to finish. But I've had enough pieces of this one through various courses that I feel I've got a decent handle of it.\")"
            ]
          },
          "metadata": {
            "tags": []
          },
          "execution_count": 17
        }
      ]
    },
    {
      "cell_type": "markdown",
      "metadata": {
        "id": "0FoaXKbKjXRX"
      },
      "source": [
        "<br><br>\n",
        "\n",
        "## **Run a baseline model (logistic regression)**\n",
        "\n",
        "Here we train and evaluate a simple TF-IDF baseline model using logistic regression.\n",
        "\n",
        "We find better-than-random performance, even for a very small dataset. We'll see whether BERT can beat this good baseline!"
      ]
    },
    {
      "cell_type": "code",
      "metadata": {
        "id": "RBTyTh8Ui2D3"
      },
      "source": [
        "vectorizer = TfidfVectorizer()\n",
        "X_train = vectorizer.fit_transform(train_texts)\n",
        "X_test = vectorizer.transform(test_texts)"
      ],
      "execution_count": null,
      "outputs": []
    },
    {
      "cell_type": "markdown",
      "metadata": {
        "id": "gMjmweu6MIQU"
      },
      "source": [
        "We train a logistic regression model from scikit-learn on the Goodreads training data, and then we use the trained model to make predictions on our Goodreads review test set."
      ]
    },
    {
      "cell_type": "code",
      "metadata": {
        "id": "R92S7JZfjiaC"
      },
      "source": [
        "model = LogisticRegression(max_iter=1000).fit(X_train, train_labels)\n",
        "predictions = model.predict(X_test)"
      ],
      "execution_count": null,
      "outputs": []
    },
    {
      "cell_type": "markdown",
      "metadata": {
        "id": "s6YmW7WZMhh3"
      },
      "source": [
        "We can use scikit-learn's `classification_report` function to evaluate how well the logistic regression model's predictions match up with the true labels for the Goodreads reviews. \n",
        "\n",
        "Importantly, we can see that our average scores are above random performance (we have 8 classes, so random performance would be ~0.2). "
      ]
    },
    {
      "cell_type": "code",
      "metadata": {
        "colab": {
          "base_uri": "https://localhost:8080/"
        },
        "id": "UeJd8ogKjpg0",
        "outputId": "6058f62c-2d4a-4be0-a5f0-c7f8f6efb728"
      },
      "source": [
        "print(classification_report(test_labels, predictions))"
      ],
      "execution_count": null,
      "outputs": [
        {
          "output_type": "stream",
          "text": [
            "                        precision    recall  f1-score   support\n",
            "\n",
            "              children       0.63      0.62      0.63       200\n",
            "        comics_graphic       0.60      0.62      0.61       200\n",
            "    fantasy_paranormal       0.34      0.26      0.29       200\n",
            "     history_biography       0.54      0.46      0.49       200\n",
            "mystery_thriller_crime       0.50      0.48      0.49       200\n",
            "                poetry       0.60      0.79      0.68       200\n",
            "               romance       0.45      0.48      0.47       200\n",
            "           young_adult       0.38      0.38      0.38       200\n",
            "\n",
            "              accuracy                           0.51      1600\n",
            "             macro avg       0.50      0.51      0.50      1600\n",
            "          weighted avg       0.50      0.51      0.50      1600\n",
            "\n"
          ],
          "name": "stdout"
        }
      ]
    },
    {
      "cell_type": "markdown",
      "metadata": {
        "id": "Aow3FPpppZVE"
      },
      "source": [
        "<br><br>\n",
        "\n",
        "## **Encode data for BERT**\n",
        "\n",
        "We're going to transform our texts and labels into a format that BERT (via Huggingface and PyTorch) will understand. This is called *encoding* the data.\n",
        "\n",
        "Here are the steps we need to follow:\n",
        "\n",
        "1. The labels&mdash;in this case, Goodreads genres&mdash;need to be turned into integers rather than strings.\n",
        "\n",
        "2. The texts&mdash;in this case, Goodreads reviews&mdash;need to be truncated if they're more than 512 tokens or padded if they're fewer than 512 tokens. The tokens, or words in the texts, also need to be separated into \"word pieces\" and matched to their embedding vectors.\n",
        "\n",
        "3. We need to add special tokens to help BERT:\n",
        "\n",
        "| BERT special token | Explanation |\n",
        "| --------------| ---------|\n",
        "| [CLS] | Start token of every document. |\n",
        "| [SEP] | Separator between each sentence |\n",
        "| [PAD] | Padding at the end of the document as many times as necessary, up to 512 tokens |\n",
        "|  &#35;&#35; | Start of a \"word piece\" |\n",
        "\n",
        "\n"
      ]
    },
    {
      "cell_type": "markdown",
      "metadata": {
        "id": "GRs0dEIoUZtV"
      },
      "source": [
        "Here we will load `DistilBertTokenizerFast` from the HuggingFace library, which will do all the work of encoding the texts for us. The `tokenizer()` will break word tokens into word pieces, truncate to 512 tokens, and add padding and special BERT tokens."
      ]
    },
    {
      "cell_type": "code",
      "metadata": {
        "id": "9BEvRqpGVMUD",
        "colab": {
          "base_uri": "https://localhost:8080/",
          "height": 164,
          "referenced_widgets": [
            "801a952dc4914ee1b04caeacae65064d",
            "bbad164cd4aa4ee5bb4933c8a04ad6ea",
            "6832d38d7a4c4041832c00205da5f3cd",
            "4d720adc4edb4150865bfe2f1ea824fc",
            "e09648d8cfb244da9a3662e952d29efa",
            "3b1babd4b9684309abd5abeeceee7b5c",
            "8c660c74a869474fa6933624a94102b5",
            "35f6da6392b548b6917dd79d63c9295d",
            "d1702ff6ef8a4130b63f4000e284039e",
            "633484ed4288465fabfc0000a7df35dd",
            "fe45063ada294f1fb42598061556820d",
            "5cf4b99835f0403bbfb4a5a0078e6982",
            "c5c9effe09dc4efbbce7631dd6a3c4e3",
            "0808b92bd2c54f16bfc34fac27c7a941",
            "a952717027f94e0088b30d806580cd87",
            "5a8eaf0e5be34663bc9df5f3f5bf2ace",
            "cf2a2bc44a6a4d169422f8e8ff37d065",
            "ba1d00f52875452ebf992c97ed4ca212",
            "0e3776e2ac1c4fc28856bf8a8ab70c3c",
            "0a2371fd3d2a493ab35e2ac514368063",
            "deb301e85a604613b075607a948eb5a5",
            "6217a04302664ffbb8938d5687643857",
            "64bd0c8ea11948efbfa227a688e69aa0",
            "dc6a8edb63824c96b7b269a69166f0f2"
          ]
        },
        "outputId": "113d07f2-8001-4930-c4fa-dcb44f027909"
      },
      "source": [
        "tokenizer = DistilBertTokenizerFast.from_pretrained(model_name) # The model_name needs to match our pre-trained model."
      ],
      "execution_count": null,
      "outputs": [
        {
          "output_type": "display_data",
          "data": {
            "application/vnd.jupyter.widget-view+json": {
              "model_id": "801a952dc4914ee1b04caeacae65064d",
              "version_minor": 0,
              "version_major": 2
            },
            "text/plain": [
              "HBox(children=(FloatProgress(value=0.0, description='Downloading', max=213450.0, style=ProgressStyle(descripti…"
            ]
          },
          "metadata": {
            "tags": []
          }
        },
        {
          "output_type": "stream",
          "text": [
            "\n"
          ],
          "name": "stdout"
        },
        {
          "output_type": "display_data",
          "data": {
            "application/vnd.jupyter.widget-view+json": {
              "model_id": "d1702ff6ef8a4130b63f4000e284039e",
              "version_minor": 0,
              "version_major": 2
            },
            "text/plain": [
              "HBox(children=(FloatProgress(value=0.0, description='Downloading', max=435797.0, style=ProgressStyle(descripti…"
            ]
          },
          "metadata": {
            "tags": []
          }
        },
        {
          "output_type": "stream",
          "text": [
            "\n"
          ],
          "name": "stdout"
        },
        {
          "output_type": "display_data",
          "data": {
            "application/vnd.jupyter.widget-view+json": {
              "model_id": "cf2a2bc44a6a4d169422f8e8ff37d065",
              "version_minor": 0,
              "version_major": 2
            },
            "text/plain": [
              "HBox(children=(FloatProgress(value=0.0, description='Downloading', max=29.0, style=ProgressStyle(description_w…"
            ]
          },
          "metadata": {
            "tags": []
          }
        },
        {
          "output_type": "stream",
          "text": [
            "\n"
          ],
          "name": "stdout"
        }
      ]
    },
    {
      "cell_type": "markdown",
      "metadata": {
        "id": "oj8X7B30UvSj"
      },
      "source": [
        "Here we will create a map of our labels, or Goodreads genres, to integer keys. We take the unique labels, and then we make a dictionary that associates each label/tag with an integer.\n",
        "\n",
        "**Note:** HuggingFace documentation sometimes refers to \"labels\" as \"tags\" but these are the same thing. We use \"labels\" throughout this notebook for clarity."
      ]
    },
    {
      "cell_type": "code",
      "metadata": {
        "id": "tSuo8gktjsVR"
      },
      "source": [
        "unique_labels = set(label for label in train_labels)\n",
        "label2id = {label: id for id, label in enumerate(unique_labels)}\n",
        "id2label = {id: label for label, id in label2id.items()}"
      ],
      "execution_count": null,
      "outputs": []
    },
    {
      "cell_type": "code",
      "metadata": {
        "colab": {
          "base_uri": "https://localhost:8080/"
        },
        "id": "M_iAWMtBpfhj",
        "outputId": "3bc978e0-3d75-4191-a63e-f65e714af0b3"
      },
      "source": [
        "label2id.keys()"
      ],
      "execution_count": null,
      "outputs": [
        {
          "output_type": "execute_result",
          "data": {
            "text/plain": [
              "dict_keys(['children', 'mystery_thriller_crime', 'romance', 'comics_graphic', 'young_adult', 'history_biography', 'poetry', 'fantasy_paranormal'])"
            ]
          },
          "metadata": {
            "tags": []
          },
          "execution_count": 23
        }
      ]
    },
    {
      "cell_type": "code",
      "metadata": {
        "colab": {
          "base_uri": "https://localhost:8080/"
        },
        "id": "vle8EgkelwRa",
        "outputId": "5c044595-6d6f-4728-ee73-e53857348979"
      },
      "source": [
        "id2label.keys()"
      ],
      "execution_count": null,
      "outputs": [
        {
          "output_type": "execute_result",
          "data": {
            "text/plain": [
              "dict_keys([0, 1, 2, 3, 4, 5, 6, 7])"
            ]
          },
          "metadata": {
            "tags": []
          },
          "execution_count": 24
        }
      ]
    },
    {
      "cell_type": "markdown",
      "metadata": {
        "id": "EraNFBC8VnPu"
      },
      "source": [
        "Now let's encode our texts and labels!"
      ]
    },
    {
      "cell_type": "code",
      "metadata": {
        "id": "uDuGq_n4pgZX"
      },
      "source": [
        "train_encodings = tokenizer(train_texts, truncation=True, padding=True, max_length=max_length)\n",
        "test_encodings  = tokenizer(test_texts, truncation=True, padding=True, max_length=max_length)\n",
        "\n",
        "train_labels_encoded = [label2id[y] for y in train_labels]\n",
        "test_labels_encoded  = [label2id[y] for y in test_labels]"
      ],
      "execution_count": null,
      "outputs": []
    },
    {
      "cell_type": "markdown",
      "metadata": {
        "id": "7X1sYEGsWDDh"
      },
      "source": [
        "**Examine a Goodreads review in the training set after encoding**"
      ]
    },
    {
      "cell_type": "code",
      "metadata": {
        "colab": {
          "base_uri": "https://localhost:8080/",
          "height": 69
        },
        "id": "4A89SN_ppiUP",
        "outputId": "0dd6b204-0976-45b0-c5e3-e7083189055f"
      },
      "source": [
        "' '.join(train_encodings[0].tokens[0:100])"
      ],
      "execution_count": null,
      "outputs": [
        {
          "output_type": "execute_result",
          "data": {
            "application/vnd.google.colaboratory.intrinsic+json": {
              "type": "string"
            },
            "text/plain": [
              "\"[CLS] I ' ll be honest - - I ' ve never read it straight from start to finish . But I ' ve had enough pieces of this one through various courses that I feel I ' ve got a decent handle of it . [SEP] [PAD] [PAD] [PAD] [PAD] [PAD] [PAD] [PAD] [PAD] [PAD] [PAD] [PAD] [PAD] [PAD] [PAD] [PAD] [PAD] [PAD] [PAD] [PAD] [PAD] [PAD] [PAD] [PAD] [PAD] [PAD] [PAD] [PAD] [PAD] [PAD] [PAD] [PAD] [PAD] [PAD] [PAD] [PAD] [PAD] [PAD] [PAD] [PAD] [PAD] [PAD] [PAD] [PAD] [PAD] [PAD] [PAD] [PAD] [PAD] [PAD] [PAD] [PAD] [PAD] [PAD]\""
            ]
          },
          "metadata": {
            "tags": []
          },
          "execution_count": 26
        }
      ]
    },
    {
      "cell_type": "markdown",
      "metadata": {
        "id": "3hvOn9RGWUMm"
      },
      "source": [
        "**Examine a Goodreads review in the test set after encoding**"
      ]
    },
    {
      "cell_type": "code",
      "metadata": {
        "colab": {
          "base_uri": "https://localhost:8080/",
          "height": 52
        },
        "id": "OafZQFKSwG9E",
        "outputId": "75ba30a9-dacf-41c0-870c-ad47905b90f8"
      },
      "source": [
        "' '.join(test_encodings[0].tokens[0:100])"
      ],
      "execution_count": null,
      "outputs": [
        {
          "output_type": "execute_result",
          "data": {
            "application/vnd.google.colaboratory.intrinsic+json": {
              "type": "string"
            },
            "text/plain": [
              "\"[CLS] l ' ` l ##m s ##h ` w ##ry t ##H ##dy ##dan m ##n l ##dy ##wn b ##sh ##k ##l km ##l , f ' n m ##G ##rm b ##b ` D q ##S ##y ' d ##h w ##lm ' s ##t ##T ` m b ` D ##h , w ##m z ##lt ' b ##H ##th ` n s ##h ` w ##r m ##H ##dd lb ` D ##h l ' k ##hr ! l ##G @ ` d ##nn l ##S ##y ' G l t ##nt ##Z ##r s\""
            ]
          },
          "metadata": {
            "tags": []
          },
          "execution_count": 27
        }
      ]
    },
    {
      "cell_type": "markdown",
      "metadata": {
        "id": "1jmt15FvW8FR"
      },
      "source": [
        "**Examine the training labels after encoding**"
      ]
    },
    {
      "cell_type": "code",
      "metadata": {
        "colab": {
          "base_uri": "https://localhost:8080/"
        },
        "id": "ciemdVYwwMNz",
        "outputId": "daa07032-de86-4bbd-81dc-a39dad454d2b"
      },
      "source": [
        "set(train_labels_encoded)"
      ],
      "execution_count": null,
      "outputs": [
        {
          "output_type": "execute_result",
          "data": {
            "text/plain": [
              "{0, 1, 2, 3, 4, 5, 6, 7}"
            ]
          },
          "metadata": {
            "tags": []
          },
          "execution_count": 28
        }
      ]
    },
    {
      "cell_type": "markdown",
      "metadata": {
        "id": "UK1Ngb0wXBz9"
      },
      "source": [
        "**Examine the test labels after encoding**"
      ]
    },
    {
      "cell_type": "code",
      "metadata": {
        "colab": {
          "base_uri": "https://localhost:8080/"
        },
        "id": "TowwulYQwOff",
        "outputId": "42f7e28e-b6f8-48ac-9994-0a98cb422789"
      },
      "source": [
        "set(test_labels_encoded)"
      ],
      "execution_count": null,
      "outputs": [
        {
          "output_type": "execute_result",
          "data": {
            "text/plain": [
              "{0, 1, 2, 3, 4, 5, 6, 7}"
            ]
          },
          "metadata": {
            "tags": []
          },
          "execution_count": 29
        }
      ]
    },
    {
      "cell_type": "markdown",
      "metadata": {
        "id": "ChcEv01TXI7v"
      },
      "source": [
        "<br><br>\n",
        "\n",
        "## **Make a custom Torch dataset**"
      ]
    },
    {
      "cell_type": "markdown",
      "metadata": {
        "id": "PxWcyj0LXVtY"
      },
      "source": [
        "Here we combine the encoded labels and texts into dataset objects. We use the custom Torch `MyDataSet` class to make a `train_dataset` object from  the `train_encodings` and `train_labels_encoded`. We also make a `test_dataset` object from `test_encodings`, and `test_labels_encoded`."
      ]
    },
    {
      "cell_type": "code",
      "metadata": {
        "id": "S4VCU-nepnqF"
      },
      "source": [
        "class MyDataset(torch.utils.data.Dataset):\n",
        "    def __init__(self, encodings, labels):\n",
        "        self.encodings = encodings\n",
        "        self.labels = labels\n",
        "\n",
        "    def __getitem__(self, idx):\n",
        "        item = {key: torch.tensor(val[idx]) for key, val in self.encodings.items()}\n",
        "        item['labels'] = torch.tensor(self.labels[idx])\n",
        "        return item\n",
        "\n",
        "    def __len__(self):\n",
        "        return len(self.labels)"
      ],
      "execution_count": null,
      "outputs": []
    },
    {
      "cell_type": "code",
      "metadata": {
        "id": "xyCFH3XEi4Ng"
      },
      "source": [
        "train_dataset = MyDataset(train_encodings, train_labels_encoded)\n",
        "test_dataset = MyDataset(test_encodings, test_labels_encoded)"
      ],
      "execution_count": null,
      "outputs": []
    },
    {
      "cell_type": "markdown",
      "metadata": {
        "id": "lSoXOmDYYyAK"
      },
      "source": [
        "**Examine a Goodreads review in the Torch `training_dataset` after encoding**"
      ]
    },
    {
      "cell_type": "code",
      "metadata": {
        "colab": {
          "base_uri": "https://localhost:8080/",
          "height": 69
        },
        "id": "DbJerEgC1Qpc",
        "outputId": "b20214f8-5bc0-483e-c115-afb8f62fe6c7"
      },
      "source": [
        "' '.join(train_dataset.encodings[0].tokens[0:100])"
      ],
      "execution_count": null,
      "outputs": [
        {
          "output_type": "execute_result",
          "data": {
            "application/vnd.google.colaboratory.intrinsic+json": {
              "type": "string"
            },
            "text/plain": [
              "\"[CLS] I ' ll be honest - - I ' ve never read it straight from start to finish . But I ' ve had enough pieces of this one through various courses that I feel I ' ve got a decent handle of it . [SEP] [PAD] [PAD] [PAD] [PAD] [PAD] [PAD] [PAD] [PAD] [PAD] [PAD] [PAD] [PAD] [PAD] [PAD] [PAD] [PAD] [PAD] [PAD] [PAD] [PAD] [PAD] [PAD] [PAD] [PAD] [PAD] [PAD] [PAD] [PAD] [PAD] [PAD] [PAD] [PAD] [PAD] [PAD] [PAD] [PAD] [PAD] [PAD] [PAD] [PAD] [PAD] [PAD] [PAD] [PAD] [PAD] [PAD] [PAD] [PAD] [PAD] [PAD] [PAD] [PAD] [PAD]\""
            ]
          },
          "metadata": {
            "tags": []
          },
          "execution_count": 32
        }
      ]
    },
    {
      "cell_type": "markdown",
      "metadata": {
        "id": "hq1M2Et4Y3LB"
      },
      "source": [
        "**Examine a Goodreads review in the Torch `test_dataset` after encoding**"
      ]
    },
    {
      "cell_type": "code",
      "metadata": {
        "colab": {
          "base_uri": "https://localhost:8080/",
          "height": 69
        },
        "id": "z65jnjVJ1aVB",
        "outputId": "f69e62a9-9b48-4a5e-962a-1e86d95ba0d8"
      },
      "source": [
        "' '.join(test_dataset.encodings[1].tokens[0:100])"
      ],
      "execution_count": null,
      "outputs": [
        {
          "output_type": "execute_result",
          "data": {
            "application/vnd.google.colaboratory.intrinsic+json": {
              "type": "string"
            },
            "text/plain": [
              "'[CLS] f ##y HD ##r @ S ##l ##H ` b ##d l ##S ##b ##w ##r l t ` l ##y ##q s ##wy n t ##sm ` y ##q ` k ##lm ##th l ##sh ` r ##y @ [SEP] [PAD] [PAD] [PAD] [PAD] [PAD] [PAD] [PAD] [PAD] [PAD] [PAD] [PAD] [PAD] [PAD] [PAD] [PAD] [PAD] [PAD] [PAD] [PAD] [PAD] [PAD] [PAD] [PAD] [PAD] [PAD] [PAD] [PAD] [PAD] [PAD] [PAD] [PAD] [PAD] [PAD] [PAD] [PAD] [PAD] [PAD] [PAD] [PAD] [PAD] [PAD] [PAD] [PAD] [PAD] [PAD] [PAD] [PAD] [PAD] [PAD] [PAD] [PAD] [PAD] [PAD] [PAD] [PAD] [PAD] [PAD] [PAD]'"
            ]
          },
          "metadata": {
            "tags": []
          },
          "execution_count": 33
        }
      ]
    },
    {
      "cell_type": "markdown",
      "metadata": {
        "id": "OkVgFcbCqKSu"
      },
      "source": [
        "<br><br>\n",
        "\n",
        "## **Load pre-trained BERT model**"
      ]
    },
    {
      "cell_type": "markdown",
      "metadata": {
        "id": "X2pSuFUVaDhP"
      },
      "source": [
        "Here we load a pre-trained DistilBERT model and send it to CUDA.\n",
        "\n",
        "**Note:** If you decide to repeat fine-tuning after already running the following cells, make sure that you re-run this cell to re-load the original pre-trained model before fine-tuning again."
      ]
    },
    {
      "cell_type": "code",
      "metadata": {
        "colab": {
          "base_uri": "https://localhost:8080/",
          "height": 220,
          "referenced_widgets": [
            "2edfcf3800814b5b94edf68ab7ab000b",
            "8b62d987aad04be196d499f8dbd46b41",
            "3b00f2513db440a780875334a70b5804",
            "768ccb9e24104616a019ea13a038b2f1",
            "48f72c62abca45048d6169d316c2fd70",
            "13a552397b4341a0b8fc3170a6a7486f",
            "aca34b8fc8dd403f918587f8788b83bd",
            "e8dd0a7778344da091169d9de3a1ebda",
            "863cc4a58f8f4c259efa62ff66561f91",
            "8aba386b776f443c8c17af88948b6429",
            "499b1d43d38a45a8975bf8cfa9c41f0e",
            "53de1332b3e0486f9c6e3f159ecd074a",
            "3766ca073d634d7eace97834e56e6f5e",
            "512a8b246d2d40dea8c86d1bc8de681f",
            "27bc211ebcbe4f5eb21f6b26832b33eb",
            "d62917a66b714713bdd8fa773a70f8aa"
          ]
        },
        "id": "a7k75REXp7UJ",
        "outputId": "b1e287c7-00b7-420c-85df-f72a9e03175e"
      },
      "source": [
        "# The model_name needs to match the name used for the tokenizer above.\n",
        "model = DistilBertForSequenceClassification.from_pretrained(model_name, num_labels=len(id2label)).to(device_name)"
      ],
      "execution_count": null,
      "outputs": [
        {
          "output_type": "display_data",
          "data": {
            "application/vnd.jupyter.widget-view+json": {
              "model_id": "2edfcf3800814b5b94edf68ab7ab000b",
              "version_minor": 0,
              "version_major": 2
            },
            "text/plain": [
              "HBox(children=(FloatProgress(value=0.0, description='Downloading', max=411.0, style=ProgressStyle(description_…"
            ]
          },
          "metadata": {
            "tags": []
          }
        },
        {
          "output_type": "stream",
          "text": [
            "\n"
          ],
          "name": "stdout"
        },
        {
          "output_type": "display_data",
          "data": {
            "application/vnd.jupyter.widget-view+json": {
              "model_id": "863cc4a58f8f4c259efa62ff66561f91",
              "version_minor": 0,
              "version_major": 2
            },
            "text/plain": [
              "HBox(children=(FloatProgress(value=0.0, description='Downloading', max=263273408.0, style=ProgressStyle(descri…"
            ]
          },
          "metadata": {
            "tags": []
          }
        },
        {
          "output_type": "stream",
          "text": [
            "\n"
          ],
          "name": "stdout"
        },
        {
          "output_type": "stream",
          "text": [
            "Some weights of the model checkpoint at distilbert-base-cased were not used when initializing DistilBertForSequenceClassification: ['vocab_projector.weight', 'vocab_transform.weight', 'vocab_transform.bias', 'vocab_projector.bias', 'vocab_layer_norm.weight', 'vocab_layer_norm.bias']\n",
            "- This IS expected if you are initializing DistilBertForSequenceClassification from the checkpoint of a model trained on another task or with another architecture (e.g. initializing a BertForSequenceClassification model from a BertForPreTraining model).\n",
            "- This IS NOT expected if you are initializing DistilBertForSequenceClassification from the checkpoint of a model that you expect to be exactly identical (initializing a BertForSequenceClassification model from a BertForSequenceClassification model).\n",
            "Some weights of DistilBertForSequenceClassification were not initialized from the model checkpoint at distilbert-base-cased and are newly initialized: ['pre_classifier.bias', 'classifier.weight', 'pre_classifier.weight', 'classifier.bias']\n",
            "You should probably TRAIN this model on a down-stream task to be able to use it for predictions and inference.\n"
          ],
          "name": "stderr"
        }
      ]
    },
    {
      "cell_type": "markdown",
      "metadata": {
        "id": "VRQZuqcAqQNI"
      },
      "source": [
        "<br><br>\n",
        "\n",
        "## **Set the BERT fine-tuning parameters**\n",
        "\n",
        "These are the arguments we'll set in the HuggingFace TrainingArguments objects, which we'll then pass to the HuggingFace Trainer object. There are many more possible arguments, but here we highlight the basics and some common gotchas.\n",
        "\n",
        "When training your own model, you should search over these parameters to find the best settings for your particular dataset. You should use a held-out set of validation data for this step."
      ]
    },
    {
      "cell_type": "markdown",
      "metadata": {
        "id": "yYOaH9AhbCD_"
      },
      "source": [
        "| Parameter | Explanation |\n",
        "|-----------| ------------|\n",
        "| num_train_epochs | total number of training epochs (how many times to pass through the entire dataset; too much can cause overfitting) |\n",
        "| per_device_train_batch_size | batch size per device during training |\n",
        "| per_device_eval_batch_size |  batch size for evaluation |\n",
        "|  warmup_steps |  number of warmup steps for learning rate scheduler (set lower because of small dataset size) |\n",
        "| weight_decay | strength of weight decay (reduces size of weights, like regularization) |\n",
        "| output_dir | output directory for the fine-tuned model and configuration files |\n",
        "| logging_dir | directory for storing logs |\n",
        "| logging_steps | how often to print logging output (so that we can stop training early if the loss isn't going down) |\n",
        "| evaluation_strategy | evaluate while training so that we can see the accuracy going up |"
      ]
    },
    {
      "cell_type": "code",
      "metadata": {
        "id": "3idCswBVg6v_"
      },
      "source": [
        "training_args = TrainingArguments(\n",
        "    num_train_epochs=3,              # total number of training epochs\n",
        "    per_device_train_batch_size=16,  # batch size per device during training\n",
        "    per_device_eval_batch_size=20,   # batch size for evaluation\n",
        "    learning_rate=5e-5,              # initial learning rate for Adam optimizer\n",
        "    warmup_steps=100,                # number of warmup steps for learning rate scheduler (set lower because of small dataset size)\n",
        "    weight_decay=0.01,               # strength of weight decay\n",
        "    output_dir='./results',          # output directory\n",
        "    logging_dir='./logs',            # directory for storing logs\n",
        "    logging_steps=100,               # number of steps to output logging (set lower because of small dataset size)\n",
        "    evaluation_strategy='steps',     # evaluate during fine-tuning so that we can see progress\n",
        ")"
      ],
      "execution_count": null,
      "outputs": []
    },
    {
      "cell_type": "markdown",
      "metadata": {
        "id": "8Pb3xtidn-HJ"
      },
      "source": [
        "<br><br>\n",
        "\n",
        "## **Fine-tune the BERT model**"
      ]
    },
    {
      "cell_type": "markdown",
      "metadata": {
        "id": "z_SN_oGLV8Vw"
      },
      "source": [
        "First, we define a custom evaluation function that returns the accuracy. You could modify this function to return precision, recall, F1, and/or other metrics."
      ]
    },
    {
      "cell_type": "code",
      "metadata": {
        "id": "pNIt7fcnqUCp"
      },
      "source": [
        "def compute_metrics(pred):\n",
        "  labels = pred.label_ids\n",
        "  preds = pred.predictions.argmax(-1)\n",
        "  acc = accuracy_score(labels, preds)\n",
        "  return {\n",
        "      'accuracy': acc,\n",
        "  }"
      ],
      "execution_count": null,
      "outputs": []
    },
    {
      "cell_type": "markdown",
      "metadata": {
        "id": "g9xl5QLmWsAw"
      },
      "source": [
        "Then we create a HuggingFace `Trainer` object using the `TrainingArguments` object that we created above. We also send our `compute_metrics` function to the `Trainer` object, along with our test and train datasets.\n",
        "\n",
        "**Note:** This is what we've been aiming for this whole time! All the work of tokenizing, creating datasets, and setting the training arguments was for this cell."
      ]
    },
    {
      "cell_type": "code",
      "metadata": {
        "id": "fgc8FS50qV0_"
      },
      "source": [
        "trainer = Trainer(\n",
        "    model=model,                         # the instantiated 🤗 Transformers model to be trained\n",
        "    args=training_args,                  # training arguments, defined above\n",
        "    train_dataset=train_dataset,         # training dataset\n",
        "    eval_dataset=test_dataset,           # evaluation dataset (usually a validation set; here we just send our test set)\n",
        "    compute_metrics=compute_metrics      # our custom evaluation function \n",
        ")"
      ],
      "execution_count": null,
      "outputs": []
    },
    {
      "cell_type": "markdown",
      "metadata": {
        "id": "Mo5QVLYjXGCN"
      },
      "source": [
        "Time to finally fine-tune! \n",
        "\n",
        "Be patient; if you've set everything in Colab to use GPUs, then it should only take a minute or two to run, but if you're running on CPU, it can take hours.\n",
        "\n",
        "After every 10 steps (as we specified in the TrainingArguments object), the trainer will output the current state of the model, including the training loss, validation (\"test\") loss, and accuracy (from our `compute_metrics` function).\n",
        "\n",
        "You should see the loss going down and the accuracy going up. If instead they are staying the same or oscillating, you probably need to change the fine-tuning parameters."
      ]
    },
    {
      "cell_type": "code",
      "metadata": {
        "colab": {
          "base_uri": "https://localhost:8080/",
          "height": 484
        },
        "id": "W64JwriVqcmk",
        "outputId": "d09810cd-3f68-4ea1-d7f7-ecb64a89f281"
      },
      "source": [
        "trainer.train()"
      ],
      "execution_count": null,
      "outputs": [
        {
          "output_type": "display_data",
          "data": {
            "text/html": [
              "\n",
              "    <div>\n",
              "      \n",
              "      <progress value='1200' max='1200' style='width:300px; height:20px; vertical-align: middle;'></progress>\n",
              "      [1200/1200 22:13, Epoch 3/3]\n",
              "    </div>\n",
              "    <table border=\"1\" class=\"dataframe\">\n",
              "  <thead>\n",
              "    <tr style=\"text-align: left;\">\n",
              "      <th>Step</th>\n",
              "      <th>Training Loss</th>\n",
              "      <th>Validation Loss</th>\n",
              "      <th>Accuracy</th>\n",
              "    </tr>\n",
              "  </thead>\n",
              "  <tbody>\n",
              "    <tr>\n",
              "      <td>100</td>\n",
              "      <td>1.996600</td>\n",
              "      <td>1.705313</td>\n",
              "      <td>0.373125</td>\n",
              "    </tr>\n",
              "    <tr>\n",
              "      <td>200</td>\n",
              "      <td>1.584600</td>\n",
              "      <td>1.385085</td>\n",
              "      <td>0.513750</td>\n",
              "    </tr>\n",
              "    <tr>\n",
              "      <td>300</td>\n",
              "      <td>1.445400</td>\n",
              "      <td>1.391928</td>\n",
              "      <td>0.489375</td>\n",
              "    </tr>\n",
              "    <tr>\n",
              "      <td>400</td>\n",
              "      <td>1.386400</td>\n",
              "      <td>1.374399</td>\n",
              "      <td>0.500000</td>\n",
              "    </tr>\n",
              "    <tr>\n",
              "      <td>500</td>\n",
              "      <td>1.101900</td>\n",
              "      <td>1.345952</td>\n",
              "      <td>0.528125</td>\n",
              "    </tr>\n",
              "    <tr>\n",
              "      <td>600</td>\n",
              "      <td>1.086500</td>\n",
              "      <td>1.306563</td>\n",
              "      <td>0.540625</td>\n",
              "    </tr>\n",
              "    <tr>\n",
              "      <td>700</td>\n",
              "      <td>1.100300</td>\n",
              "      <td>1.269690</td>\n",
              "      <td>0.546875</td>\n",
              "    </tr>\n",
              "    <tr>\n",
              "      <td>800</td>\n",
              "      <td>1.102800</td>\n",
              "      <td>1.269377</td>\n",
              "      <td>0.532500</td>\n",
              "    </tr>\n",
              "    <tr>\n",
              "      <td>900</td>\n",
              "      <td>0.752600</td>\n",
              "      <td>1.316513</td>\n",
              "      <td>0.546875</td>\n",
              "    </tr>\n",
              "    <tr>\n",
              "      <td>1000</td>\n",
              "      <td>0.745900</td>\n",
              "      <td>1.337238</td>\n",
              "      <td>0.553125</td>\n",
              "    </tr>\n",
              "    <tr>\n",
              "      <td>1100</td>\n",
              "      <td>0.713400</td>\n",
              "      <td>1.345329</td>\n",
              "      <td>0.552500</td>\n",
              "    </tr>\n",
              "    <tr>\n",
              "      <td>1200</td>\n",
              "      <td>0.678900</td>\n",
              "      <td>1.348691</td>\n",
              "      <td>0.550000</td>\n",
              "    </tr>\n",
              "  </tbody>\n",
              "</table><p>"
            ],
            "text/plain": [
              "<IPython.core.display.HTML object>"
            ]
          },
          "metadata": {
            "tags": []
          }
        },
        {
          "output_type": "execute_result",
          "data": {
            "text/plain": [
              "TrainOutput(global_step=1200, training_loss=1.141270949045817, metrics={'train_runtime': 1334.6642, 'train_samples_per_second': 0.899, 'total_flos': 646718973542400.0, 'epoch': 3.0, 'init_mem_cpu_alloc_delta': 32768, 'init_mem_gpu_alloc_delta': 0, 'init_mem_cpu_peaked_delta': 0, 'init_mem_gpu_peaked_delta': 0, 'train_mem_cpu_alloc_delta': -351195136, 'train_mem_gpu_alloc_delta': 790109696, 'train_mem_cpu_peaked_delta': 364605440, 'train_mem_gpu_peaked_delta': 6540809216})"
            ]
          },
          "metadata": {
            "tags": []
          },
          "execution_count": 38
        }
      ]
    },
    {
      "cell_type": "markdown",
      "metadata": {
        "id": "kXeIZ_LFqeps"
      },
      "source": [
        "<br><br>\n",
        "\n",
        "## **Save fine-tuned model**\n",
        "\n",
        "The following cell will save the model and its configuration files to a directory in Colab. To preserve this model for future use, you should download the model to your computer."
      ]
    },
    {
      "cell_type": "code",
      "metadata": {
        "id": "kxkDWDfvqeAo"
      },
      "source": [
        "trainer.save_model(cached_model_directory_name)"
      ],
      "execution_count": null,
      "outputs": []
    },
    {
      "cell_type": "markdown",
      "metadata": {
        "id": "epiLftYkZrzc"
      },
      "source": [
        "(Optional) If you've already fine-tuned and saved the model, you can reload it using the following line. You don't have to run fine-tuning every time you want to evaluate."
      ]
    },
    {
      "cell_type": "code",
      "metadata": {
        "id": "9A54QySLrO5I"
      },
      "source": [
        "# trainer = DistilBertForSequenceClassification.from_pretrained(cached_model_directory_name)"
      ],
      "execution_count": null,
      "outputs": []
    },
    {
      "cell_type": "markdown",
      "metadata": {
        "id": "JpzV4hFsLmZ6"
      },
      "source": [
        "<br><br>\n",
        "\n",
        "## **Evaluate fine-tuned model**"
      ]
    },
    {
      "cell_type": "markdown",
      "metadata": {
        "id": "-IvfhrBtYYcz"
      },
      "source": [
        "The following function of the `Trainer` object will run the built-in evaluation, including our `compute_metrics` function."
      ]
    },
    {
      "cell_type": "code",
      "metadata": {
        "colab": {
          "base_uri": "https://localhost:8080/",
          "height": 190
        },
        "id": "dshtTH0WLtM1",
        "outputId": "d4d3ee91-ff58-4acf-8222-fbe6b4a33419"
      },
      "source": [
        "trainer.evaluate()"
      ],
      "execution_count": null,
      "outputs": [
        {
          "output_type": "display_data",
          "data": {
            "text/html": [
              "\n",
              "    <div>\n",
              "      \n",
              "      <progress value='80' max='80' style='width:300px; height:20px; vertical-align: middle;'></progress>\n",
              "      [80/80 00:28]\n",
              "    </div>\n",
              "    "
            ],
            "text/plain": [
              "<IPython.core.display.HTML object>"
            ]
          },
          "metadata": {
            "tags": []
          }
        },
        {
          "output_type": "execute_result",
          "data": {
            "text/plain": [
              "{'epoch': 3.0,\n",
              " 'eval_accuracy': 0.55,\n",
              " 'eval_loss': 1.3486912250518799,\n",
              " 'eval_mem_cpu_alloc_delta': 0,\n",
              " 'eval_mem_cpu_peaked_delta': 0,\n",
              " 'eval_mem_gpu_alloc_delta': 0,\n",
              " 'eval_mem_gpu_peaked_delta': 723764736,\n",
              " 'eval_runtime': 28.7647,\n",
              " 'eval_samples_per_second': 55.624}"
            ]
          },
          "metadata": {
            "tags": []
          },
          "execution_count": 41
        }
      ]
    },
    {
      "cell_type": "markdown",
      "metadata": {
        "id": "ILJGLcCjYhPt"
      },
      "source": [
        "But we might want to do more fine-grained analysis of the model, so we extract the predicted labels."
      ]
    },
    {
      "cell_type": "code",
      "metadata": {
        "colab": {
          "base_uri": "https://localhost:8080/",
          "height": 37
        },
        "id": "v_E8oVjeLuv2",
        "outputId": "0947df3c-9b35-4a50-f874-09564eae0da9"
      },
      "source": [
        "predicted_results = trainer.predict(test_dataset)"
      ],
      "execution_count": null,
      "outputs": [
        {
          "output_type": "display_data",
          "data": {
            "text/html": [
              "\n",
              "    <div>\n",
              "      \n",
              "      <progress value='160' max='80' style='width:300px; height:20px; vertical-align: middle;'></progress>\n",
              "      [80/80 00:57]\n",
              "    </div>\n",
              "    "
            ],
            "text/plain": [
              "<IPython.core.display.HTML object>"
            ]
          },
          "metadata": {
            "tags": []
          }
        }
      ]
    },
    {
      "cell_type": "code",
      "metadata": {
        "colab": {
          "base_uri": "https://localhost:8080/"
        },
        "id": "WUYGfzczOuJE",
        "outputId": "dc4069b0-0a56-41de-a189-ed90958ee163"
      },
      "source": [
        "predicted_results.predictions.shape"
      ],
      "execution_count": null,
      "outputs": [
        {
          "output_type": "execute_result",
          "data": {
            "text/plain": [
              "(1600, 8)"
            ]
          },
          "metadata": {
            "tags": []
          },
          "execution_count": 43
        }
      ]
    },
    {
      "cell_type": "code",
      "metadata": {
        "id": "hqUTa5irLyN8"
      },
      "source": [
        "predicted_labels = predicted_results.predictions.argmax(-1) # Get the highest probability prediction\n",
        "predicted_labels = predicted_labels.flatten().tolist()      # Flatten the predictions into a 1D list\n",
        "predicted_labels = [id2label[l] for l in predicted_labels]  # Convert from integers back to strings for readability"
      ],
      "execution_count": null,
      "outputs": []
    },
    {
      "cell_type": "code",
      "metadata": {
        "colab": {
          "base_uri": "https://localhost:8080/"
        },
        "id": "Y2jtqnJbPMpu",
        "outputId": "2723d587-19b1-4c28-975d-e7d82d699257"
      },
      "source": [
        "len(predicted_labels)"
      ],
      "execution_count": null,
      "outputs": [
        {
          "output_type": "execute_result",
          "data": {
            "text/plain": [
              "1600"
            ]
          },
          "metadata": {
            "tags": []
          },
          "execution_count": 45
        }
      ]
    },
    {
      "cell_type": "code",
      "metadata": {
        "colab": {
          "base_uri": "https://localhost:8080/"
        },
        "id": "qVcMU45fLzli",
        "outputId": "0313624a-61d2-4c84-d5b3-804cbd95f299"
      },
      "source": [
        "print(classification_report(test_labels, \n",
        "                            predicted_labels))"
      ],
      "execution_count": null,
      "outputs": [
        {
          "output_type": "stream",
          "text": [
            "                        precision    recall  f1-score   support\n",
            "\n",
            "              children       0.64      0.65      0.65       200\n",
            "        comics_graphic       0.60      0.72      0.66       200\n",
            "    fantasy_paranormal       0.36      0.32      0.34       200\n",
            "     history_biography       0.63      0.53      0.57       200\n",
            "mystery_thriller_crime       0.52      0.60      0.56       200\n",
            "                poetry       0.74      0.80      0.77       200\n",
            "               romance       0.49      0.41      0.45       200\n",
            "           young_adult       0.37      0.37      0.37       200\n",
            "\n",
            "              accuracy                           0.55      1600\n",
            "             macro avg       0.55      0.55      0.55      1600\n",
            "          weighted avg       0.55      0.55      0.55      1600\n",
            "\n"
          ],
          "name": "stdout"
        }
      ]
    },
    {
      "cell_type": "markdown",
      "metadata": {
        "id": "ddk-iKTQF-K3"
      },
      "source": [
        "<br><br>\n",
        "\n",
        "## **Pull out correct and incorrect classifications for examination**\n",
        "\n",
        "Let's use our predicted labels for some analysis!\n",
        "\n",
        "Now that we've fine-tuned and pulled out our predicted labels, the BERT part of this tutorial is done. You can now use the predicted labels in the same way you would use any set of predicted labels from any classification model. We'll show some examples here.\n",
        "\n",
        "First, let's print out some example predictions that were correct."
      ]
    },
    {
      "cell_type": "code",
      "metadata": {
        "colab": {
          "base_uri": "https://localhost:8080/"
        },
        "id": "l7KrvGuZkDAV",
        "outputId": "10dae6c9-c05a-4500-8abf-6cbeb86314a2"
      },
      "source": [
        "for _true_label, _predicted_label, _text in random.sample(list(zip(test_labels, predicted_labels, test_texts)), 20):\n",
        "  if _true_label == _predicted_label:\n",
        "    print('LABEL:', _true_label)\n",
        "    print('REVIEW TEXT:', _text[:100], '...')\n",
        "    print()"
      ],
      "execution_count": null,
      "outputs": [
        {
          "output_type": "stream",
          "text": [
            "LABEL: children\n",
            "REVIEW TEXT: Only David Shannon can write a fun book about lice! \n",
            " Informative and sure to make us all itchy. ...\n",
            "\n",
            "LABEL: poetry\n",
            "REVIEW TEXT: Read as 3.5 stars... \n",
            " I found this collection to be excellent - intense, beautiful, sad, uncomforta ...\n",
            "\n",
            "LABEL: children\n",
            "REVIEW TEXT: Animals, books, encouragement to read. Positively captivating. Plus wonderful illustration by Marc B ...\n",
            "\n",
            "LABEL: romance\n",
            "REVIEW TEXT: loved this just as much as the others ...\n",
            "\n",
            "LABEL: romance\n",
            "REVIEW TEXT: OMG!!! This book was awesome, but I have yet to be disappointed by a Colleen Hoover book. I highly r ...\n",
            "\n",
            "LABEL: history_biography\n",
            "REVIEW TEXT: A good look at Elizabeth's early life. Weir does so much research that it really brings the time and ...\n",
            "\n",
            "LABEL: poetry\n",
            "REVIEW TEXT: Exquisite! Favorite new poetry find of the year. ...\n",
            "\n",
            "LABEL: poetry\n",
            "REVIEW TEXT: This book was created as a teaching tool. It includes what are supposed to be some of the most-taugh ...\n",
            "\n"
          ],
          "name": "stdout"
        }
      ]
    },
    {
      "cell_type": "markdown",
      "metadata": {
        "id": "pW30Z6ynkDPI"
      },
      "source": [
        "Now let's print out some misclassifications."
      ]
    },
    {
      "cell_type": "code",
      "metadata": {
        "colab": {
          "base_uri": "https://localhost:8080/"
        },
        "id": "Xmx1RSKDkIpG",
        "outputId": "f2b354cc-0210-4190-b298-5159a8991d06"
      },
      "source": [
        "for _true_label, _predicted_label, _text in random.sample(list(zip(test_labels, predicted_labels, test_texts)), 20):\n",
        "  if _true_label != _predicted_label:\n",
        "    print('TRUE LABEL:', _true_label)\n",
        "    print('PREDICTED LABEL:', _predicted_label)\n",
        "    print('REVIEW TEXT:', _text[:100], '...')\n",
        "    print()"
      ],
      "execution_count": null,
      "outputs": [
        {
          "output_type": "stream",
          "text": [
            "TRUE LABEL: poetry\n",
            "PREDICTED LABEL: comics_graphic\n",
            "REVIEW TEXT: There are tears. ...\n",
            "\n",
            "TRUE LABEL: mystery_thriller_crime\n",
            "PREDICTED LABEL: romance\n",
            "REVIEW TEXT: I feel like I've found a pot of gold at the end of the rainbow with this author. Being a newbie to t ...\n",
            "\n",
            "TRUE LABEL: comics_graphic\n",
            "PREDICTED LABEL: children\n",
            "REVIEW TEXT: I'm talking about these books by Jeffrey Brown. \n",
            " The books have brightly colored pictures that are  ...\n",
            "\n",
            "TRUE LABEL: young_adult\n",
            "PREDICTED LABEL: romance\n",
            "REVIEW TEXT: This unique story is told from the alternating views of Emma and Ben. A delightful blend of suspense ...\n",
            "\n",
            "TRUE LABEL: romance\n",
            "PREDICTED LABEL: young_adult\n",
            "REVIEW TEXT: THE STORY \n",
            " In a country divide by castes it's every girl dream to be a Selected and have the chance ...\n",
            "\n",
            "TRUE LABEL: young_adult\n",
            "PREDICTED LABEL: mystery_thriller_crime\n",
            "REVIEW TEXT: one of those unforgettable books. ...\n",
            "\n",
            "TRUE LABEL: mystery_thriller_crime\n",
            "PREDICTED LABEL: history_biography\n",
            "REVIEW TEXT: Although it could have done a better job of going into detail about the industry caste system and it ...\n",
            "\n",
            "TRUE LABEL: comics_graphic\n",
            "PREDICTED LABEL: fantasy_paranormal\n",
            "REVIEW TEXT: 3,5 ...\n",
            "\n",
            "TRUE LABEL: history_biography\n",
            "PREDICTED LABEL: comics_graphic\n",
            "REVIEW TEXT: I think she is...full of crap. My social worker friend and her colleagues feel that she probably has ...\n",
            "\n",
            "TRUE LABEL: romance\n",
            "PREDICTED LABEL: young_adult\n",
            "REVIEW TEXT: OMG I stayed up until 4 in the morning to finish this book!!!! I loved Jaxon and Sara's story. I cou ...\n",
            "\n",
            "TRUE LABEL: young_adult\n",
            "PREDICTED LABEL: mystery_thriller_crime\n",
            "REVIEW TEXT: 4,5 Sterne \n",
            " Es dauerte ein Weilchen, bis ich mich in die Geschichte einfinden konnte. Anfangs schie ...\n",
            "\n",
            "TRUE LABEL: history_biography\n",
            "PREDICTED LABEL: mystery_thriller_crime\n",
            "REVIEW TEXT: I'll admit it: I was hesitant to start this book. I was so sad after reading the ending of Jane and  ...\n",
            "\n"
          ],
          "name": "stdout"
        }
      ]
    },
    {
      "cell_type": "markdown",
      "metadata": {
        "id": "3MZqyFrckJBB"
      },
      "source": [
        "Finally, let's create some heatmaps to examine misclassification patterns. We could use these patterns to think about similarities and differences between genres, according to book reviewers."
      ]
    },
    {
      "cell_type": "code",
      "metadata": {
        "id": "v8yJ3-Z7hLXf"
      },
      "source": [
        "genre_classifications_dict = defaultdict(int)\n",
        "for _true_label, _predicted_label in zip(test_labels, predicted_labels):\n",
        "  genre_classifications_dict[(_true_label, _predicted_label)] += 1\n",
        "  \n",
        "dicts_to_plot = []\n",
        "for (_true_genre, _predicted_genre), _count in genre_classifications_dict.items():\n",
        "  dicts_to_plot.append({'True Genre': _true_genre,\n",
        "                        'Predicted Genre': _predicted_genre,\n",
        "                        'Number of Classifications': _count})\n",
        "  \n",
        "df_to_plot = pd.DataFrame(dicts_to_plot)\n",
        "df_wide = df_to_plot.pivot_table(index='True Genre', \n",
        "                                 columns='Predicted Genre', \n",
        "                                 values='Number of Classifications')"
      ],
      "execution_count": null,
      "outputs": []
    },
    {
      "cell_type": "code",
      "metadata": {
        "colab": {
          "base_uri": "https://localhost:8080/",
          "height": 504
        },
        "id": "wSAgS6tvivvz",
        "outputId": "6442c677-b7fd-4696-f52d-8d26f102cf3e"
      },
      "source": [
        "plt.figure(figsize=(9,7))\n",
        "sns.set(style='ticks', font_scale=1.2)\n",
        "sns.heatmap(df_wide, linewidths=1, cmap='Purples')    \n",
        "plt.xticks(rotation=45, ha='right')\n",
        "plt.tight_layout()\n",
        "plt.show()"
      ],
      "execution_count": null,
      "outputs": [
        {
          "output_type": "display_data",
          "data": {
            "image/png": "[encoded data removed]",
            "text/plain": [
              "<Figure size 648x504 with 2 Axes>"
            ]
          },
          "metadata": {
            "tags": []
          }
        }
      ]
    },
    {
      "cell_type": "markdown",
      "metadata": {
        "id": "eiukJdYRqyjm"
      },
      "source": [
        "Looks good! We can see that overall, our model is assigning the correct labels for each genre. \n",
        "\n",
        "Now, let's remove the diagonal from the plot to highlight the misclassifications."
      ]
    },
    {
      "cell_type": "code",
      "metadata": {
        "id": "O7GJQfYxi3ET"
      },
      "source": [
        "genre_classifications_dict = defaultdict(int)\n",
        "for _true_label, _predicted_label in zip(test_labels, predicted_labels):\n",
        "  if _true_label != _predicted_label: # Remove the diagonal to highlight misclassifications\n",
        "    genre_classifications_dict[(_true_label, _predicted_label)] += 1\n",
        "  \n",
        "dicts_to_plot = []\n",
        "for (_true_genre, _predicted_genre), _count in genre_classifications_dict.items():\n",
        "  dicts_to_plot.append({'True Genre': _true_genre,\n",
        "                        'Predicted Genre': _predicted_genre,\n",
        "                        'Number of Classifications': _count})\n",
        "  \n",
        "df_to_plot = pd.DataFrame(dicts_to_plot)\n",
        "df_wide = df_to_plot.pivot_table(index='True Genre', \n",
        "                                 columns='Predicted Genre', \n",
        "                                 values='Number of Classifications')"
      ],
      "execution_count": null,
      "outputs": []
    },
    {
      "cell_type": "code",
      "metadata": {
        "colab": {
          "base_uri": "https://localhost:8080/",
          "height": 504
        },
        "id": "3oM09JGrjX_y",
        "outputId": "bdc6255b-9c2d-41f9-9361-483e3013557a"
      },
      "source": [
        "plt.figure(figsize=(9,7))\n",
        "sns.set(style='ticks', font_scale=1.2)\n",
        "sns.heatmap(df_wide, linewidths=1, cmap='Purples')    \n",
        "plt.xticks(rotation=45, ha='right')\n",
        "plt.tight_layout()\n",
        "plt.show()"
      ],
      "execution_count": null,
      "outputs": [
        {
          "output_type": "display_data",
          "data": {
            "image/png": "[encoded data removed]",
            "text/plain": [
              "<Figure size 648x504 with 2 Axes>"
            ]
          },
          "metadata": {
            "tags": []
          }
        }
      ]
    },
    {
      "cell_type": "markdown",
      "metadata": {
        "id": "w99vVZCVl8g0"
      },
      "source": [
        "There's much more you can do with your own dataset and labels! Classification can be used to apply a small set of labels across a big dataset; to explore misclassifications to better understand users; and much more! We hope you'll use this tutorial in all kinds of creative ways."
      ]
    },
    {
      "cell_type": "code",
      "metadata": {
        "id": "ZEnxI21djZXT"
      },
      "source": [
        ""
      ],
      "execution_count": null,
      "outputs": []
    }
  ]
}